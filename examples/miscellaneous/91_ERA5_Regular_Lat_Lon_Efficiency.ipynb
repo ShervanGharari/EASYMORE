{
 "cells": [
  {
   "cell_type": "markdown",
   "metadata": {},
   "source": [
    "# An example of using EASYMORE with source netCDF files in regular Latitude and Longitude for check of remapping file creation and remapping netcdf files\n",
    "### merit hydro dataset is exracted from https://www.reachhydro.org/home/params/merit-basins"
   ]
  },
  {
   "cell_type": "code",
   "execution_count": 12,
   "metadata": {},
   "outputs": [
    {
     "name": "stdout",
     "output_type": "stream",
     "text": [
      "71\n",
      "72\n",
      "73\n",
      "74\n",
      "75\n",
      "76\n",
      "77\n",
      "78\n",
      "81\n",
      "82\n",
      "83\n",
      "84\n",
      "85\n",
      "86\n"
     ]
    },
    {
     "name": "stderr",
     "output_type": "stream",
     "text": [
      "/Users/shg096/opt/anaconda3/envs/myenv38/lib/python3.8/site-packages/geopandas/_vectorized.py:150: DeprecationWarning: An exception was ignored while fetching the attribute `__array_interface__` from an object of type 'Polygon'.  With the exception of `AttributeError` NumPy will always raise this exception in the future.  Raise this deprecation warning to see the original exception. (Warning added NumPy 1.21)\n",
      "  out[:] = [_pygeos_to_shapely(geom) for geom in data]\n",
      "/Users/shg096/opt/anaconda3/envs/myenv38/lib/python3.8/site-packages/geopandas/_vectorized.py:150: DeprecationWarning: An exception was ignored while fetching the attribute `__array_interface__` from an object of type 'MultiPolygon'.  With the exception of `AttributeError` NumPy will always raise this exception in the future.  Raise this deprecation warning to see the original exception. (Warning added NumPy 1.21)\n",
      "  out[:] = [_pygeos_to_shapely(geom) for geom in data]\n"
     ]
    }
   ],
   "source": [
    "\n",
    "#\n",
    "import geopandas as gpd\n",
    "import glob\n",
    "import os\n",
    "import xarray as xr\n",
    "import shutil\n",
    "\n",
    "path_of_mertit_basin = '../../MERIT_Hydro/cat/' # were merit catchment is located;\n",
    "# downloaded from # https://www.reachhydro.org/home/params/merit-basins\n",
    "\n",
    "# paramaeters\n",
    "path_efficiency = '../../ERA5_Efficiency_test/'\n",
    "elements = [1,10,100,1000,10000,100000]\n",
    "x_center, y_center = -103.140004, 45.461352\n",
    "\n",
    "# create the folder\n",
    "if os.path.isdir(path_efficiency):\n",
    "    shutil.rmtree(path_efficiency)\n",
    "os.makedirs(path_efficiency)\n",
    "\n",
    "# merging the north american domain cat\n",
    "Pfafs  = ['71', '72', '73', '74', '75', '76', '77', '78',\n",
    "          '81', '82', '83', '84', '85', '86']\n",
    "\n",
    "shp = None\n",
    "for Pfaf in Pfafs:\n",
    "    print(Pfaf)\n",
    "    shp_temp = gpd.read_file(path_of_mertit_basin+'cat_pfaf_'+Pfaf+'_MERIT_Hydro_v07_Basins_v01_bugfix1.shp')\n",
    "    if shp is None:\n",
    "        shp = shp_temp\n",
    "    else:\n",
    "        shp = shp.append(shp_temp)\n",
    "\n",
    "# shp.to_file(path_efficiency+'merged_NA.shp')\n",
    "\n",
    "# matching the shapefile domain to netcdf domain to exclude shape with NaN that reduce easymore speed for \n",
    "# a fair compariosn across the number of elements\n",
    "shp['lat'] = shp.centroid.y\n",
    "shp['lon'] = shp.centroid.x\n",
    "shp = shp [(shp['lat']<70) & (shp['lat']>10) & (shp['lon']<-54) & (shp['lon']>-165)]\n",
    "\n",
    "# create the points from the centroid of the shapes in the shapefile\n",
    "\n",
    "shp['dist'] = ((shp['lat']-y_center)**2.0 + (shp['lon']-x_center)**2.0)**0.5\n",
    "shp_sorted = shp.sort_values(by='dist').copy()\n",
    "\n",
    "shp\n",
    "\n",
    "for element in elements:\n",
    "    # when the shapes are randomly selected\n",
    "    shp_temp = shp.sample(n=element)\n",
    "    shp_temp.crs='epsg:4326'\n",
    "    shp_temp.to_file(path_efficiency+str(element)+'_random.shp')\n",
    "    # get the boundary, add buffer and subset the netcdf file\n",
    "    shp_temp = shp_sorted.head(element)\n",
    "    shp_temp.crs='epsg:4326'\n",
    "    shp_temp.to_file(path_efficiency+str(element)+'_radial.shp')\n",
    "    minx, miny, maxx, maxy = shp_temp.total_bounds\n",
    "    minx, miny, maxx, maxy = minx-1, miny-1, maxx+1, maxy+1 # add buffer\n",
    "    nc_names = glob.glob('./data/Source_nc_ERA5/ERA5_NA_1979*.nc')\n",
    "    for nc_name in nc_names:\n",
    "        nc_name_base = os.path.basename(nc_name)\n",
    "        ds = xr.open_dataset(nc_name)\n",
    "        ds_subset = ds.sel(latitude=slice(maxy, miny), longitude=slice(minx, maxx))\n",
    "        # save\n",
    "        if os.path.isfile(path_efficiency+nc_name_base+'_'+str(element)):\n",
    "            os.remove(path_efficiency+nc_name_base+'_'+str(element))\n",
    "        ds_subset['airtemp'].encoding['_FillValue'] = None\n",
    "        ds_subset['pptrate'].encoding['_FillValue'] = None\n",
    "        ds_subset.to_netcdf(path_efficiency+nc_name_base+'_'+str(element))\n",
    "\n",
    "\n"
   ]
  },
  {
   "cell_type": "code",
   "execution_count": 11,
   "metadata": {},
   "outputs": [
    {
     "name": "stdout",
     "output_type": "stream",
     "text": [
      "EASYMORE version 0.0.5 is initiated.\n",
      "no author name is provided. The author name is changed to (author name)!\n",
      "EASYMORE is given multiple variables for remapping but only on format and fill value. EASYMORE repeats the format and fill value for all the variables in output files\n",
      "EASYMORE will remap variable  airtemp  from source file to variable  temperature  in remapped netCDF file\n",
      "EASYMORE will remap variable  pptrate  from source file to variable  precipitation  in remapped netCDF file\n",
      "EASYMORE detects that the variables from the netCDF files are identicalin dimensions of the variables and latitude and longitude\n",
      "EASYMORE detects that all the variables have dimensions of:\n",
      "['time', 'latitude', 'longitude']\n",
      "EASYMORE detects that the longitude variables has dimensions of:\n",
      "['longitude']\n",
      "EASYMORE detects that the latitude variables has dimensions of:\n",
      "['latitude']\n",
      "--CREATING-REMAPPING-FILE--\n",
      "Started at date and time 2023-03-31 21:28:44.039681\n",
      "EASYMORE detects that target shapefile is in WGS84 (epsg:4326)\n",
      "EASYMORE detects that the field for ID is provided in sink/target shapefile\n",
      "EASYMORE detects that either of the fields for latitude or longitude is not provided in sink/target shapefile\n",
      "calculating centroid of shapes in WGS84 projection;\n",
      "for better appximation use the easymore equal area centroid function to preprocess target shapefile\n",
      "EASYMORE detects that no field for latitude is provided in sink/target shapefile\n",
      "latitude values are added in the field lat_t\n",
      "EASYMORE detects that no field for longitude is provided in sink/target shapefile\n",
      "longitude values are added in the field lon_t\n",
      "it seems everything is OK with the sink/target shapefile; added to EASYMORE object target_shp_gpd\n",
      "EASYMORE saved target shapefile for EASYMORE claculation as:\n",
      "./temporary/Merit1_target_shapefile.shp\n",
      "EASYMORE detects case 1 - regular lat/lon\n"
     ]
    },
    {
     "name": "stderr",
     "output_type": "stream",
     "text": [
      "/Users/shg096/opt/anaconda3/envs/myenv38/lib/python3.8/site-packages/geopandas/_vectorized.py:150: DeprecationWarning: An exception was ignored while fetching the attribute `__array_interface__` from an object of type 'MultiPolygon'.  With the exception of `AttributeError` NumPy will always raise this exception in the future.  Raise this deprecation warning to see the original exception. (Warning added NumPy 1.21)\n",
      "  out[:] = [_pygeos_to_shapely(geom) for geom in data]\n"
     ]
    },
    {
     "name": "stdout",
     "output_type": "stream",
     "text": [
      "max difference of lat values in source nc files are :  0.0\n",
      "max difference of lon values in source nc files are :  0.0\n"
     ]
    },
    {
     "name": "stderr",
     "output_type": "stream",
     "text": [
      "/Users/shg096/opt/anaconda3/envs/myenv38/lib/python3.8/site-packages/pandas/core/dtypes/cast.py:1638: DeprecationWarning: An exception was ignored while fetching the attribute `__array_interface__` from an object of type 'Polygon'.  With the exception of `AttributeError` NumPy will always raise this exception in the future.  Raise this deprecation warning to see the original exception. (Warning added NumPy 1.21)\n",
      "  result[:] = values\n",
      "/Users/shg096/opt/anaconda3/envs/myenv38/lib/python3.8/site-packages/geopandas/_vectorized.py:150: DeprecationWarning: An exception was ignored while fetching the attribute `__array_interface__` from an object of type 'Polygon'.  With the exception of `AttributeError` NumPy will always raise this exception in the future.  Raise this deprecation warning to see the original exception. (Warning added NumPy 1.21)\n",
      "  out[:] = [_pygeos_to_shapely(geom) for geom in data]\n"
     ]
    },
    {
     "name": "stdout",
     "output_type": "stream",
     "text": [
      "./temporary/Merit1_source_shapefile.shp\n",
      "EASYMORE created the shapefile from the netCDF file and saved it here:\n",
      "EASMORE detects that target shapefile is inside the boundary of source netCDF file  and therefore correction for longitude values -180 to 180 or 0 to 360 is not performed even if  the correction_shp_lon flag is set to True [default is True]\n"
     ]
    },
    {
     "name": "stderr",
     "output_type": "stream",
     "text": [
      "/Users/shg096/opt/anaconda3/envs/myenv38/lib/python3.8/site-packages/easymore/easymore.py:216: UserWarning: Column names longer than 10 characters will be truncated when saved to ESRI Shapefile.\n",
      "  shp_int.to_file(self.temp_dir+self.case_name+'_intersected_shapefile.shp') # save the intersected files\n",
      "/Users/shg096/opt/anaconda3/envs/myenv38/lib/python3.8/site-packages/geopandas/_vectorized.py:150: DeprecationWarning: An exception was ignored while fetching the attribute `__array_interface__` from an object of type 'MultiPolygon'.  With the exception of `AttributeError` NumPy will always raise this exception in the future.  Raise this deprecation warning to see the original exception. (Warning added NumPy 1.21)\n",
      "  out[:] = [_pygeos_to_shapely(geom) for geom in data]\n",
      "/Users/shg096/opt/anaconda3/envs/myenv38/lib/python3.8/site-packages/geopandas/_vectorized.py:150: DeprecationWarning: An exception was ignored while fetching the attribute `__array_interface__` from an object of type 'Polygon'.  With the exception of `AttributeError` NumPy will always raise this exception in the future.  Raise this deprecation warning to see the original exception. (Warning added NumPy 1.21)\n",
      "  out[:] = [_pygeos_to_shapely(geom) for geom in data]\n"
     ]
    },
    {
     "name": "stdout",
     "output_type": "stream",
     "text": [
      "Ended at date and time 2023-03-31 21:30:12.139037\n",
      "It took 88.099356 seconds to finish creating of the remapping file\n",
      "---------------------------\n",
      "------REMAPPING------\n",
      "netcdf output file will be compressed at level 4\n",
      "Removing existing remapped .nc file.\n",
      "Remapping ./data/Source_nc_ERA5/ERA5_NA_19790101.nc to ./output/Merit1_remapped_1979-01-01-00-00-00.nc \n",
      "Started at date and time 2023-03-31 21:30:12.158039 \n",
      "Ended at date and time 2023-03-31 21:30:12.464855 \n",
      "It took 0.306816 seconds to finish the remapping of variable(s) \n",
      "---------------------\n",
      "Removing existing remapped .nc file.\n",
      "Remapping ./data/Source_nc_ERA5/ERA5_NA_19790102.nc to ./output/Merit1_remapped_1979-01-02-00-00-00.nc \n",
      "Started at date and time 2023-03-31 21:30:12.471473 \n",
      "Ended at date and time 2023-03-31 21:30:12.743156 \n",
      "It took 0.271683 seconds to finish the remapping of variable(s) \n",
      "---------------------\n",
      "Removing existing remapped .nc file.\n",
      "Remapping ./data/Source_nc_ERA5/ERA5_NA_19790103.nc to ./output/Merit1_remapped_1979-01-03-00-00-00.nc \n",
      "Started at date and time 2023-03-31 21:30:12.748832 \n",
      "Ended at date and time 2023-03-31 21:30:13.020907 \n",
      "It took 0.272075 seconds to finish the remapping of variable(s) \n",
      "---------------------\n",
      "---------------------\n",
      "EASYMORE version 0.0.5 is initiated.\n",
      "no author name is provided. The author name is changed to (author name)!\n",
      "EASYMORE is given multiple variables for remapping but only on format and fill value. EASYMORE repeats the format and fill value for all the variables in output files\n",
      "EASYMORE will remap variable  airtemp  from source file to variable  temperature  in remapped netCDF file\n",
      "EASYMORE will remap variable  pptrate  from source file to variable  precipitation  in remapped netCDF file\n",
      "EASYMORE detects that the variables from the netCDF files are identicalin dimensions of the variables and latitude and longitude\n",
      "EASYMORE detects that all the variables have dimensions of:\n",
      "['time', 'latitude', 'longitude']\n",
      "EASYMORE detects that the longitude variables has dimensions of:\n",
      "['longitude']\n",
      "EASYMORE detects that the latitude variables has dimensions of:\n",
      "['latitude']\n",
      "--CREATING-REMAPPING-FILE--\n",
      "Started at date and time 2023-03-31 21:30:13.216297\n",
      "EASYMORE detects that target shapefile is in WGS84 (epsg:4326)\n",
      "EASYMORE detects that the field for ID is provided in sink/target shapefile\n",
      "EASYMORE detects that either of the fields for latitude or longitude is not provided in sink/target shapefile\n",
      "calculating centroid of shapes in WGS84 projection;\n",
      "for better appximation use the easymore equal area centroid function to preprocess target shapefile\n",
      "EASYMORE detects that no field for latitude is provided in sink/target shapefile\n",
      "latitude values are added in the field lat_t\n",
      "EASYMORE detects that no field for longitude is provided in sink/target shapefile\n",
      "longitude values are added in the field lon_t\n",
      "it seems everything is OK with the sink/target shapefile; added to EASYMORE object target_shp_gpd\n",
      "EASYMORE saved target shapefile for EASYMORE claculation as:\n",
      "./temporary/Merit10_target_shapefile.shp\n",
      "EASYMORE detects case 1 - regular lat/lon\n"
     ]
    },
    {
     "name": "stderr",
     "output_type": "stream",
     "text": [
      "/Users/shg096/opt/anaconda3/envs/myenv38/lib/python3.8/site-packages/geopandas/_vectorized.py:150: DeprecationWarning: An exception was ignored while fetching the attribute `__array_interface__` from an object of type 'Polygon'.  With the exception of `AttributeError` NumPy will always raise this exception in the future.  Raise this deprecation warning to see the original exception. (Warning added NumPy 1.21)\n",
      "  out[:] = [_pygeos_to_shapely(geom) for geom in data]\n",
      "/Users/shg096/opt/anaconda3/envs/myenv38/lib/python3.8/site-packages/geopandas/_vectorized.py:150: DeprecationWarning: An exception was ignored while fetching the attribute `__array_interface__` from an object of type 'MultiPolygon'.  With the exception of `AttributeError` NumPy will always raise this exception in the future.  Raise this deprecation warning to see the original exception. (Warning added NumPy 1.21)\n",
      "  out[:] = [_pygeos_to_shapely(geom) for geom in data]\n"
     ]
    },
    {
     "name": "stdout",
     "output_type": "stream",
     "text": [
      "max difference of lat values in source nc files are :  0.0\n",
      "max difference of lon values in source nc files are :  0.0\n"
     ]
    },
    {
     "name": "stderr",
     "output_type": "stream",
     "text": [
      "/Users/shg096/opt/anaconda3/envs/myenv38/lib/python3.8/site-packages/pandas/core/dtypes/cast.py:1638: DeprecationWarning: An exception was ignored while fetching the attribute `__array_interface__` from an object of type 'Polygon'.  With the exception of `AttributeError` NumPy will always raise this exception in the future.  Raise this deprecation warning to see the original exception. (Warning added NumPy 1.21)\n",
      "  result[:] = values\n"
     ]
    },
    {
     "name": "stdout",
     "output_type": "stream",
     "text": [
      "./temporary/Merit10_source_shapefile.shp\n",
      "EASYMORE created the shapefile from the netCDF file and saved it here:\n",
      "EASMORE detects that target shapefile is inside the boundary of source netCDF file  and therefore correction for longitude values -180 to 180 or 0 to 360 is not performed even if  the correction_shp_lon flag is set to True [default is True]\n"
     ]
    },
    {
     "name": "stderr",
     "output_type": "stream",
     "text": [
      "/Users/shg096/opt/anaconda3/envs/myenv38/lib/python3.8/site-packages/easymore/easymore.py:216: UserWarning: Column names longer than 10 characters will be truncated when saved to ESRI Shapefile.\n",
      "  shp_int.to_file(self.temp_dir+self.case_name+'_intersected_shapefile.shp') # save the intersected files\n",
      "/Users/shg096/opt/anaconda3/envs/myenv38/lib/python3.8/site-packages/geopandas/_vectorized.py:150: DeprecationWarning: An exception was ignored while fetching the attribute `__array_interface__` from an object of type 'Polygon'.  With the exception of `AttributeError` NumPy will always raise this exception in the future.  Raise this deprecation warning to see the original exception. (Warning added NumPy 1.21)\n",
      "  out[:] = [_pygeos_to_shapely(geom) for geom in data]\n",
      "/Users/shg096/opt/anaconda3/envs/myenv38/lib/python3.8/site-packages/geopandas/_vectorized.py:150: DeprecationWarning: An exception was ignored while fetching the attribute `__array_interface__` from an object of type 'MultiPolygon'.  With the exception of `AttributeError` NumPy will always raise this exception in the future.  Raise this deprecation warning to see the original exception. (Warning added NumPy 1.21)\n",
      "  out[:] = [_pygeos_to_shapely(geom) for geom in data]\n"
     ]
    },
    {
     "name": "stdout",
     "output_type": "stream",
     "text": [
      "Ended at date and time 2023-03-31 21:31:43.889953\n",
      "It took 90.673656 seconds to finish creating of the remapping file\n",
      "---------------------------\n",
      "------REMAPPING------\n",
      "netcdf output file will be compressed at level 4\n",
      "Removing existing remapped .nc file.\n",
      "Remapping ./data/Source_nc_ERA5/ERA5_NA_19790101.nc to ./output/Merit10_remapped_1979-01-01-00-00-00.nc \n",
      "Started at date and time 2023-03-31 21:31:43.906967 \n",
      "Ended at date and time 2023-03-31 21:31:44.170911 \n",
      "It took 0.263944 seconds to finish the remapping of variable(s) \n",
      "---------------------\n",
      "Removing existing remapped .nc file.\n",
      "Remapping ./data/Source_nc_ERA5/ERA5_NA_19790102.nc to ./output/Merit10_remapped_1979-01-02-00-00-00.nc \n",
      "Started at date and time 2023-03-31 21:31:44.178641 \n",
      "Ended at date and time 2023-03-31 21:31:44.436240 \n",
      "It took 0.257599 seconds to finish the remapping of variable(s) \n",
      "---------------------\n",
      "Removing existing remapped .nc file.\n",
      "Remapping ./data/Source_nc_ERA5/ERA5_NA_19790103.nc to ./output/Merit10_remapped_1979-01-03-00-00-00.nc \n",
      "Started at date and time 2023-03-31 21:31:44.443005 \n",
      "Ended at date and time 2023-03-31 21:31:44.717093 \n",
      "It took 0.274088 seconds to finish the remapping of variable(s) \n",
      "---------------------\n",
      "---------------------\n",
      "EASYMORE version 0.0.5 is initiated.\n",
      "no author name is provided. The author name is changed to (author name)!\n",
      "EASYMORE is given multiple variables for remapping but only on format and fill value. EASYMORE repeats the format and fill value for all the variables in output files\n",
      "EASYMORE will remap variable  airtemp  from source file to variable  temperature  in remapped netCDF file\n",
      "EASYMORE will remap variable  pptrate  from source file to variable  precipitation  in remapped netCDF file\n",
      "EASYMORE detects that the variables from the netCDF files are identicalin dimensions of the variables and latitude and longitude\n",
      "EASYMORE detects that all the variables have dimensions of:\n",
      "['time', 'latitude', 'longitude']\n",
      "EASYMORE detects that the longitude variables has dimensions of:\n",
      "['longitude']\n",
      "EASYMORE detects that the latitude variables has dimensions of:\n",
      "['latitude']\n",
      "--CREATING-REMAPPING-FILE--\n",
      "Started at date and time 2023-03-31 21:31:44.910399\n",
      "EASYMORE detects that target shapefile is in WGS84 (epsg:4326)\n",
      "EASYMORE detects that the field for ID is provided in sink/target shapefile\n",
      "EASYMORE detects that either of the fields for latitude or longitude is not provided in sink/target shapefile\n",
      "calculating centroid of shapes in WGS84 projection;\n",
      "for better appximation use the easymore equal area centroid function to preprocess target shapefile\n",
      "EASYMORE detects that no field for latitude is provided in sink/target shapefile\n",
      "latitude values are added in the field lat_t\n",
      "EASYMORE detects that no field for longitude is provided in sink/target shapefile\n",
      "longitude values are added in the field lon_t\n",
      "it seems everything is OK with the sink/target shapefile; added to EASYMORE object target_shp_gpd\n"
     ]
    },
    {
     "name": "stderr",
     "output_type": "stream",
     "text": [
      "/Users/shg096/opt/anaconda3/envs/myenv38/lib/python3.8/site-packages/geopandas/_vectorized.py:150: DeprecationWarning: An exception was ignored while fetching the attribute `__array_interface__` from an object of type 'MultiPolygon'.  With the exception of `AttributeError` NumPy will always raise this exception in the future.  Raise this deprecation warning to see the original exception. (Warning added NumPy 1.21)\n",
      "  out[:] = [_pygeos_to_shapely(geom) for geom in data]\n",
      "/Users/shg096/opt/anaconda3/envs/myenv38/lib/python3.8/site-packages/geopandas/_vectorized.py:150: DeprecationWarning: An exception was ignored while fetching the attribute `__array_interface__` from an object of type 'Polygon'.  With the exception of `AttributeError` NumPy will always raise this exception in the future.  Raise this deprecation warning to see the original exception. (Warning added NumPy 1.21)\n",
      "  out[:] = [_pygeos_to_shapely(geom) for geom in data]\n"
     ]
    },
    {
     "name": "stdout",
     "output_type": "stream",
     "text": [
      "EASYMORE saved target shapefile for EASYMORE claculation as:\n",
      "./temporary/Merit100_target_shapefile.shp\n",
      "EASYMORE detects case 1 - regular lat/lon\n",
      "max difference of lat values in source nc files are :  0.0\n",
      "max difference of lon values in source nc files are :  0.0\n"
     ]
    },
    {
     "name": "stderr",
     "output_type": "stream",
     "text": [
      "/Users/shg096/opt/anaconda3/envs/myenv38/lib/python3.8/site-packages/pandas/core/dtypes/cast.py:1638: DeprecationWarning: An exception was ignored while fetching the attribute `__array_interface__` from an object of type 'Polygon'.  With the exception of `AttributeError` NumPy will always raise this exception in the future.  Raise this deprecation warning to see the original exception. (Warning added NumPy 1.21)\n",
      "  result[:] = values\n"
     ]
    },
    {
     "name": "stdout",
     "output_type": "stream",
     "text": [
      "./temporary/Merit100_source_shapefile.shp\n",
      "EASYMORE created the shapefile from the netCDF file and saved it here:\n",
      "EASMORE detects that target shapefile is inside the boundary of source netCDF file  and therefore correction for longitude values -180 to 180 or 0 to 360 is not performed even if  the correction_shp_lon flag is set to True [default is True]\n"
     ]
    },
    {
     "name": "stderr",
     "output_type": "stream",
     "text": [
      "/Users/shg096/opt/anaconda3/envs/myenv38/lib/python3.8/site-packages/easymore/easymore.py:216: UserWarning: Column names longer than 10 characters will be truncated when saved to ESRI Shapefile.\n",
      "  shp_int.to_file(self.temp_dir+self.case_name+'_intersected_shapefile.shp') # save the intersected files\n",
      "/Users/shg096/opt/anaconda3/envs/myenv38/lib/python3.8/site-packages/geopandas/_vectorized.py:150: DeprecationWarning: An exception was ignored while fetching the attribute `__array_interface__` from an object of type 'Polygon'.  With the exception of `AttributeError` NumPy will always raise this exception in the future.  Raise this deprecation warning to see the original exception. (Warning added NumPy 1.21)\n",
      "  out[:] = [_pygeos_to_shapely(geom) for geom in data]\n",
      "/Users/shg096/opt/anaconda3/envs/myenv38/lib/python3.8/site-packages/geopandas/_vectorized.py:150: DeprecationWarning: An exception was ignored while fetching the attribute `__array_interface__` from an object of type 'MultiPolygon'.  With the exception of `AttributeError` NumPy will always raise this exception in the future.  Raise this deprecation warning to see the original exception. (Warning added NumPy 1.21)\n",
      "  out[:] = [_pygeos_to_shapely(geom) for geom in data]\n"
     ]
    },
    {
     "name": "stdout",
     "output_type": "stream",
     "text": [
      "Ended at date and time 2023-03-31 21:33:16.258809\n",
      "It took 91.34841 seconds to finish creating of the remapping file\n",
      "---------------------------\n",
      "------REMAPPING------\n",
      "netcdf output file will be compressed at level 4\n",
      "Removing existing remapped .nc file.\n",
      "Remapping ./data/Source_nc_ERA5/ERA5_NA_19790101.nc to ./output/Merit100_remapped_1979-01-01-00-00-00.nc \n",
      "Started at date and time 2023-03-31 21:33:16.274352 \n",
      "Ended at date and time 2023-03-31 21:33:16.520995 \n",
      "It took 0.246643 seconds to finish the remapping of variable(s) \n",
      "---------------------\n",
      "Removing existing remapped .nc file.\n",
      "Remapping ./data/Source_nc_ERA5/ERA5_NA_19790102.nc to ./output/Merit100_remapped_1979-01-02-00-00-00.nc \n",
      "Started at date and time 2023-03-31 21:33:16.526485 \n",
      "Ended at date and time 2023-03-31 21:33:16.793707 \n",
      "It took 0.267222 seconds to finish the remapping of variable(s) \n",
      "---------------------\n",
      "Removing existing remapped .nc file.\n",
      "Remapping ./data/Source_nc_ERA5/ERA5_NA_19790103.nc to ./output/Merit100_remapped_1979-01-03-00-00-00.nc \n",
      "Started at date and time 2023-03-31 21:33:16.800520 \n",
      "Ended at date and time 2023-03-31 21:33:17.051461 \n",
      "It took 0.250941 seconds to finish the remapping of variable(s) \n",
      "---------------------\n",
      "---------------------\n",
      "EASYMORE version 0.0.5 is initiated.\n",
      "no author name is provided. The author name is changed to (author name)!\n",
      "EASYMORE is given multiple variables for remapping but only on format and fill value. EASYMORE repeats the format and fill value for all the variables in output files\n",
      "EASYMORE will remap variable  airtemp  from source file to variable  temperature  in remapped netCDF file\n",
      "EASYMORE will remap variable  pptrate  from source file to variable  precipitation  in remapped netCDF file\n",
      "EASYMORE detects that the variables from the netCDF files are identicalin dimensions of the variables and latitude and longitude\n",
      "EASYMORE detects that all the variables have dimensions of:\n",
      "['time', 'latitude', 'longitude']\n",
      "EASYMORE detects that the longitude variables has dimensions of:\n",
      "['longitude']\n",
      "EASYMORE detects that the latitude variables has dimensions of:\n",
      "['latitude']\n",
      "--CREATING-REMAPPING-FILE--\n",
      "Started at date and time 2023-03-31 21:33:17.237255\n",
      "EASYMORE detects that target shapefile is in WGS84 (epsg:4326)\n",
      "EASYMORE detects that the field for ID is provided in sink/target shapefile\n",
      "EASYMORE detects that either of the fields for latitude or longitude is not provided in sink/target shapefile\n",
      "calculating centroid of shapes in WGS84 projection;\n",
      "for better appximation use the easymore equal area centroid function to preprocess target shapefile\n",
      "EASYMORE detects that no field for latitude is provided in sink/target shapefile\n",
      "latitude values are added in the field lat_t\n",
      "EASYMORE detects that no field for longitude is provided in sink/target shapefile\n",
      "longitude values are added in the field lon_t\n"
     ]
    },
    {
     "name": "stderr",
     "output_type": "stream",
     "text": [
      "/Users/shg096/opt/anaconda3/envs/myenv38/lib/python3.8/site-packages/geopandas/_vectorized.py:150: DeprecationWarning: An exception was ignored while fetching the attribute `__array_interface__` from an object of type 'MultiPolygon'.  With the exception of `AttributeError` NumPy will always raise this exception in the future.  Raise this deprecation warning to see the original exception. (Warning added NumPy 1.21)\n",
      "  out[:] = [_pygeos_to_shapely(geom) for geom in data]\n",
      "/Users/shg096/opt/anaconda3/envs/myenv38/lib/python3.8/site-packages/geopandas/_vectorized.py:150: DeprecationWarning: An exception was ignored while fetching the attribute `__array_interface__` from an object of type 'Polygon'.  With the exception of `AttributeError` NumPy will always raise this exception in the future.  Raise this deprecation warning to see the original exception. (Warning added NumPy 1.21)\n",
      "  out[:] = [_pygeos_to_shapely(geom) for geom in data]\n"
     ]
    },
    {
     "name": "stdout",
     "output_type": "stream",
     "text": [
      "it seems everything is OK with the sink/target shapefile; added to EASYMORE object target_shp_gpd\n",
      "EASYMORE saved target shapefile for EASYMORE claculation as:\n",
      "./temporary/Merit1000_target_shapefile.shp\n",
      "EASYMORE detects case 1 - regular lat/lon\n",
      "max difference of lat values in source nc files are :  0.0\n",
      "max difference of lon values in source nc files are :  0.0\n"
     ]
    },
    {
     "name": "stderr",
     "output_type": "stream",
     "text": [
      "/Users/shg096/opt/anaconda3/envs/myenv38/lib/python3.8/site-packages/pandas/core/dtypes/cast.py:1638: DeprecationWarning: An exception was ignored while fetching the attribute `__array_interface__` from an object of type 'Polygon'.  With the exception of `AttributeError` NumPy will always raise this exception in the future.  Raise this deprecation warning to see the original exception. (Warning added NumPy 1.21)\n",
      "  result[:] = values\n"
     ]
    },
    {
     "name": "stdout",
     "output_type": "stream",
     "text": [
      "./temporary/Merit1000_source_shapefile.shp\n",
      "EASYMORE created the shapefile from the netCDF file and saved it here:\n",
      "EASMORE detects that target shapefile is inside the boundary of source netCDF file  and therefore correction for longitude values -180 to 180 or 0 to 360 is not performed even if  the correction_shp_lon flag is set to True [default is True]\n"
     ]
    },
    {
     "name": "stderr",
     "output_type": "stream",
     "text": [
      "/Users/shg096/opt/anaconda3/envs/myenv38/lib/python3.8/site-packages/easymore/easymore.py:216: UserWarning: Column names longer than 10 characters will be truncated when saved to ESRI Shapefile.\n",
      "  shp_int.to_file(self.temp_dir+self.case_name+'_intersected_shapefile.shp') # save the intersected files\n",
      "/Users/shg096/opt/anaconda3/envs/myenv38/lib/python3.8/site-packages/geopandas/_vectorized.py:150: DeprecationWarning: An exception was ignored while fetching the attribute `__array_interface__` from an object of type 'Polygon'.  With the exception of `AttributeError` NumPy will always raise this exception in the future.  Raise this deprecation warning to see the original exception. (Warning added NumPy 1.21)\n",
      "  out[:] = [_pygeos_to_shapely(geom) for geom in data]\n",
      "/Users/shg096/opt/anaconda3/envs/myenv38/lib/python3.8/site-packages/geopandas/_vectorized.py:150: DeprecationWarning: An exception was ignored while fetching the attribute `__array_interface__` from an object of type 'MultiPolygon'.  With the exception of `AttributeError` NumPy will always raise this exception in the future.  Raise this deprecation warning to see the original exception. (Warning added NumPy 1.21)\n",
      "  out[:] = [_pygeos_to_shapely(geom) for geom in data]\n"
     ]
    },
    {
     "name": "stdout",
     "output_type": "stream",
     "text": [
      "Ended at date and time 2023-03-31 21:34:55.723228\n",
      "It took 98.485973 seconds to finish creating of the remapping file\n",
      "---------------------------\n",
      "------REMAPPING------\n",
      "netcdf output file will be compressed at level 4\n",
      "Removing existing remapped .nc file.\n",
      "Remapping ./data/Source_nc_ERA5/ERA5_NA_19790101.nc to ./output/Merit1000_remapped_1979-01-01-00-00-00.nc \n",
      "Started at date and time 2023-03-31 21:34:55.746685 \n",
      "Ended at date and time 2023-03-31 21:34:56.044331 \n",
      "It took 0.297646 seconds to finish the remapping of variable(s) \n",
      "---------------------\n",
      "Removing existing remapped .nc file.\n",
      "Remapping ./data/Source_nc_ERA5/ERA5_NA_19790102.nc to ./output/Merit1000_remapped_1979-01-02-00-00-00.nc \n",
      "Started at date and time 2023-03-31 21:34:56.050160 \n",
      "Ended at date and time 2023-03-31 21:34:56.337321 \n",
      "It took 0.287161 seconds to finish the remapping of variable(s) \n",
      "---------------------\n",
      "Removing existing remapped .nc file.\n",
      "Remapping ./data/Source_nc_ERA5/ERA5_NA_19790103.nc to ./output/Merit1000_remapped_1979-01-03-00-00-00.nc \n",
      "Started at date and time 2023-03-31 21:34:56.344848 \n",
      "Ended at date and time 2023-03-31 21:34:56.645140 \n",
      "It took 0.300292 seconds to finish the remapping of variable(s) \n",
      "---------------------\n",
      "---------------------\n",
      "EASYMORE version 0.0.5 is initiated.\n",
      "no author name is provided. The author name is changed to (author name)!\n",
      "EASYMORE is given multiple variables for remapping but only on format and fill value. EASYMORE repeats the format and fill value for all the variables in output files\n",
      "EASYMORE will remap variable  airtemp  from source file to variable  temperature  in remapped netCDF file\n",
      "EASYMORE will remap variable  pptrate  from source file to variable  precipitation  in remapped netCDF file\n",
      "EASYMORE detects that the variables from the netCDF files are identicalin dimensions of the variables and latitude and longitude\n",
      "EASYMORE detects that all the variables have dimensions of:\n",
      "['time', 'latitude', 'longitude']\n",
      "EASYMORE detects that the longitude variables has dimensions of:\n",
      "['longitude']\n",
      "EASYMORE detects that the latitude variables has dimensions of:\n",
      "['latitude']\n",
      "--CREATING-REMAPPING-FILE--\n",
      "Started at date and time 2023-03-31 21:34:56.833800\n",
      "EASYMORE detects that target shapefile is in WGS84 (epsg:4326)\n",
      "EASYMORE detects that the field for ID is provided in sink/target shapefile\n",
      "EASYMORE detects that either of the fields for latitude or longitude is not provided in sink/target shapefile\n",
      "calculating centroid of shapes in WGS84 projection;\n",
      "for better appximation use the easymore equal area centroid function to preprocess target shapefile\n",
      "EASYMORE detects that no field for latitude is provided in sink/target shapefile\n",
      "latitude values are added in the field lat_t\n",
      "EASYMORE detects that no field for longitude is provided in sink/target shapefile\n",
      "longitude values are added in the field lon_t\n"
     ]
    },
    {
     "name": "stderr",
     "output_type": "stream",
     "text": [
      "/Users/shg096/opt/anaconda3/envs/myenv38/lib/python3.8/site-packages/geopandas/_vectorized.py:150: DeprecationWarning: An exception was ignored while fetching the attribute `__array_interface__` from an object of type 'MultiPolygon'.  With the exception of `AttributeError` NumPy will always raise this exception in the future.  Raise this deprecation warning to see the original exception. (Warning added NumPy 1.21)\n",
      "  out[:] = [_pygeos_to_shapely(geom) for geom in data]\n",
      "/Users/shg096/opt/anaconda3/envs/myenv38/lib/python3.8/site-packages/geopandas/_vectorized.py:150: DeprecationWarning: An exception was ignored while fetching the attribute `__array_interface__` from an object of type 'Polygon'.  With the exception of `AttributeError` NumPy will always raise this exception in the future.  Raise this deprecation warning to see the original exception. (Warning added NumPy 1.21)\n",
      "  out[:] = [_pygeos_to_shapely(geom) for geom in data]\n"
     ]
    },
    {
     "name": "stdout",
     "output_type": "stream",
     "text": [
      "it seems everything is OK with the sink/target shapefile; added to EASYMORE object target_shp_gpd\n",
      "EASYMORE saved target shapefile for EASYMORE claculation as:\n",
      "./temporary/Merit10000_target_shapefile.shp\n",
      "EASYMORE detects case 1 - regular lat/lon\n",
      "max difference of lat values in source nc files are :  0.0\n",
      "max difference of lon values in source nc files are :  0.0\n"
     ]
    },
    {
     "name": "stderr",
     "output_type": "stream",
     "text": [
      "/Users/shg096/opt/anaconda3/envs/myenv38/lib/python3.8/site-packages/pandas/core/dtypes/cast.py:1638: DeprecationWarning: An exception was ignored while fetching the attribute `__array_interface__` from an object of type 'Polygon'.  With the exception of `AttributeError` NumPy will always raise this exception in the future.  Raise this deprecation warning to see the original exception. (Warning added NumPy 1.21)\n",
      "  result[:] = values\n"
     ]
    },
    {
     "name": "stdout",
     "output_type": "stream",
     "text": [
      "./temporary/Merit10000_source_shapefile.shp\n",
      "EASYMORE created the shapefile from the netCDF file and saved it here:\n",
      "EASMORE detects that target shapefile is inside the boundary of source netCDF file  and therefore correction for longitude values -180 to 180 or 0 to 360 is not performed even if  the correction_shp_lon flag is set to True [default is True]\n"
     ]
    },
    {
     "name": "stderr",
     "output_type": "stream",
     "text": [
      "/Users/shg096/opt/anaconda3/envs/myenv38/lib/python3.8/site-packages/easymore/easymore.py:216: UserWarning: Column names longer than 10 characters will be truncated when saved to ESRI Shapefile.\n",
      "  shp_int.to_file(self.temp_dir+self.case_name+'_intersected_shapefile.shp') # save the intersected files\n",
      "/Users/shg096/opt/anaconda3/envs/myenv38/lib/python3.8/site-packages/geopandas/_vectorized.py:150: DeprecationWarning: An exception was ignored while fetching the attribute `__array_interface__` from an object of type 'MultiPolygon'.  With the exception of `AttributeError` NumPy will always raise this exception in the future.  Raise this deprecation warning to see the original exception. (Warning added NumPy 1.21)\n",
      "  out[:] = [_pygeos_to_shapely(geom) for geom in data]\n",
      "/Users/shg096/opt/anaconda3/envs/myenv38/lib/python3.8/site-packages/geopandas/_vectorized.py:150: DeprecationWarning: An exception was ignored while fetching the attribute `__array_interface__` from an object of type 'Polygon'.  With the exception of `AttributeError` NumPy will always raise this exception in the future.  Raise this deprecation warning to see the original exception. (Warning added NumPy 1.21)\n",
      "  out[:] = [_pygeos_to_shapely(geom) for geom in data]\n"
     ]
    },
    {
     "name": "stdout",
     "output_type": "stream",
     "text": [
      "Ended at date and time 2023-03-31 21:38:10.773899\n",
      "It took 193.940099 seconds to finish creating of the remapping file\n",
      "---------------------------\n",
      "------REMAPPING------\n",
      "netcdf output file will be compressed at level 4\n",
      "Removing existing remapped .nc file.\n",
      "Remapping ./data/Source_nc_ERA5/ERA5_NA_19790101.nc to ./output/Merit10000_remapped_1979-01-01-00-00-00.nc \n",
      "Started at date and time 2023-03-31 21:38:10.855228 \n",
      "Ended at date and time 2023-03-31 21:38:11.505252 \n",
      "It took 0.650024 seconds to finish the remapping of variable(s) \n",
      "---------------------\n",
      "Removing existing remapped .nc file.\n",
      "Remapping ./data/Source_nc_ERA5/ERA5_NA_19790102.nc to ./output/Merit10000_remapped_1979-01-02-00-00-00.nc \n",
      "Started at date and time 2023-03-31 21:38:11.513800 \n",
      "Ended at date and time 2023-03-31 21:38:12.153795 \n",
      "It took 0.639995 seconds to finish the remapping of variable(s) \n",
      "---------------------\n",
      "Removing existing remapped .nc file.\n",
      "Remapping ./data/Source_nc_ERA5/ERA5_NA_19790103.nc to ./output/Merit10000_remapped_1979-01-03-00-00-00.nc \n",
      "Started at date and time 2023-03-31 21:38:12.161833 \n",
      "Ended at date and time 2023-03-31 21:38:12.742576 \n",
      "It took 0.580743 seconds to finish the remapping of variable(s) \n",
      "---------------------\n",
      "---------------------\n",
      "EASYMORE version 0.0.5 is initiated.\n",
      "no author name is provided. The author name is changed to (author name)!\n",
      "EASYMORE is given multiple variables for remapping but only on format and fill value. EASYMORE repeats the format and fill value for all the variables in output files\n",
      "EASYMORE will remap variable  airtemp  from source file to variable  temperature  in remapped netCDF file\n",
      "EASYMORE will remap variable  pptrate  from source file to variable  precipitation  in remapped netCDF file\n",
      "EASYMORE detects that the variables from the netCDF files are identicalin dimensions of the variables and latitude and longitude\n",
      "EASYMORE detects that all the variables have dimensions of:\n",
      "['time', 'latitude', 'longitude']\n",
      "EASYMORE detects that the longitude variables has dimensions of:\n",
      "['longitude']\n",
      "EASYMORE detects that the latitude variables has dimensions of:\n",
      "['latitude']\n",
      "--CREATING-REMAPPING-FILE--\n",
      "Started at date and time 2023-03-31 21:38:12.989504\n",
      "EASYMORE detects that target shapefile is in WGS84 (epsg:4326)\n",
      "EASYMORE detects that the field for ID is provided in sink/target shapefile\n",
      "EASYMORE detects that either of the fields for latitude or longitude is not provided in sink/target shapefile\n",
      "calculating centroid of shapes in WGS84 projection;\n",
      "for better appximation use the easymore equal area centroid function to preprocess target shapefile\n",
      "EASYMORE detects that no field for latitude is provided in sink/target shapefile\n",
      "latitude values are added in the field lat_t\n",
      "EASYMORE detects that no field for longitude is provided in sink/target shapefile\n",
      "longitude values are added in the field lon_t\n"
     ]
    },
    {
     "name": "stderr",
     "output_type": "stream",
     "text": [
      "/Users/shg096/opt/anaconda3/envs/myenv38/lib/python3.8/site-packages/geopandas/_vectorized.py:150: DeprecationWarning: An exception was ignored while fetching the attribute `__array_interface__` from an object of type 'MultiPolygon'.  With the exception of `AttributeError` NumPy will always raise this exception in the future.  Raise this deprecation warning to see the original exception. (Warning added NumPy 1.21)\n",
      "  out[:] = [_pygeos_to_shapely(geom) for geom in data]\n",
      "/Users/shg096/opt/anaconda3/envs/myenv38/lib/python3.8/site-packages/geopandas/_vectorized.py:150: DeprecationWarning: An exception was ignored while fetching the attribute `__array_interface__` from an object of type 'Polygon'.  With the exception of `AttributeError` NumPy will always raise this exception in the future.  Raise this deprecation warning to see the original exception. (Warning added NumPy 1.21)\n",
      "  out[:] = [_pygeos_to_shapely(geom) for geom in data]\n"
     ]
    },
    {
     "name": "stdout",
     "output_type": "stream",
     "text": [
      "it seems everything is OK with the sink/target shapefile; added to EASYMORE object target_shp_gpd\n",
      "EASYMORE saved target shapefile for EASYMORE claculation as:\n",
      "./temporary/Merit100000_target_shapefile.shp\n",
      "EASYMORE detects case 1 - regular lat/lon\n",
      "max difference of lat values in source nc files are :  0.0\n",
      "max difference of lon values in source nc files are :  0.0\n"
     ]
    },
    {
     "name": "stderr",
     "output_type": "stream",
     "text": [
      "/Users/shg096/opt/anaconda3/envs/myenv38/lib/python3.8/site-packages/pandas/core/dtypes/cast.py:1638: DeprecationWarning: An exception was ignored while fetching the attribute `__array_interface__` from an object of type 'Polygon'.  With the exception of `AttributeError` NumPy will always raise this exception in the future.  Raise this deprecation warning to see the original exception. (Warning added NumPy 1.21)\n",
      "  result[:] = values\n"
     ]
    },
    {
     "name": "stdout",
     "output_type": "stream",
     "text": [
      "./temporary/Merit100000_source_shapefile.shp\n",
      "EASYMORE created the shapefile from the netCDF file and saved it here:\n",
      "EASMORE detects that target shapefile is inside the boundary of source netCDF file  and therefore correction for longitude values -180 to 180 or 0 to 360 is not performed even if  the correction_shp_lon flag is set to True [default is True]\n"
     ]
    },
    {
     "name": "stderr",
     "output_type": "stream",
     "text": [
      "/Users/shg096/opt/anaconda3/envs/myenv38/lib/python3.8/site-packages/easymore/easymore.py:216: UserWarning: Column names longer than 10 characters will be truncated when saved to ESRI Shapefile.\n",
      "  shp_int.to_file(self.temp_dir+self.case_name+'_intersected_shapefile.shp') # save the intersected files\n",
      "/Users/shg096/opt/anaconda3/envs/myenv38/lib/python3.8/site-packages/geopandas/_vectorized.py:150: DeprecationWarning: An exception was ignored while fetching the attribute `__array_interface__` from an object of type 'MultiPolygon'.  With the exception of `AttributeError` NumPy will always raise this exception in the future.  Raise this deprecation warning to see the original exception. (Warning added NumPy 1.21)\n",
      "  out[:] = [_pygeos_to_shapely(geom) for geom in data]\n",
      "/Users/shg096/opt/anaconda3/envs/myenv38/lib/python3.8/site-packages/geopandas/_vectorized.py:150: DeprecationWarning: An exception was ignored while fetching the attribute `__array_interface__` from an object of type 'Polygon'.  With the exception of `AttributeError` NumPy will always raise this exception in the future.  Raise this deprecation warning to see the original exception. (Warning added NumPy 1.21)\n",
      "  out[:] = [_pygeos_to_shapely(geom) for geom in data]\n"
     ]
    },
    {
     "name": "stdout",
     "output_type": "stream",
     "text": [
      "Ended at date and time 2023-03-31 21:56:47.653481\n",
      "It took 1114.663977 seconds to finish creating of the remapping file\n",
      "---------------------------\n",
      "------REMAPPING------\n",
      "netcdf output file will be compressed at level 4\n",
      "Removing existing remapped .nc file.\n",
      "Remapping ./data/Source_nc_ERA5/ERA5_NA_19790101.nc to ./output/Merit100000_remapped_1979-01-01-00-00-00.nc \n",
      "Started at date and time 2023-03-31 21:56:48.307555 \n",
      "Ended at date and time 2023-03-31 21:56:52.057976 \n",
      "It took 3.750421 seconds to finish the remapping of variable(s) \n",
      "---------------------\n",
      "Removing existing remapped .nc file.\n",
      "Remapping ./data/Source_nc_ERA5/ERA5_NA_19790102.nc to ./output/Merit100000_remapped_1979-01-02-00-00-00.nc \n",
      "Started at date and time 2023-03-31 21:56:52.069707 \n",
      "Ended at date and time 2023-03-31 21:56:55.940315 \n",
      "It took 3.870608 seconds to finish the remapping of variable(s) \n",
      "---------------------\n",
      "Removing existing remapped .nc file.\n",
      "Remapping ./data/Source_nc_ERA5/ERA5_NA_19790103.nc to ./output/Merit100000_remapped_1979-01-03-00-00-00.nc \n",
      "Started at date and time 2023-03-31 21:56:55.951635 \n",
      "Ended at date and time 2023-03-31 21:56:59.812081 \n",
      "It took 3.860446 seconds to finish the remapping of variable(s) \n",
      "---------------------\n",
      "---------------------\n"
     ]
    }
   ],
   "source": [
    "# loading EASYMORE\n",
    "from easymore import Easymore\n",
    "\n",
    "for element in elements:\n",
    "    \n",
    "    # initializing EASYMORE object\n",
    "    esmr = Easymore()\n",
    "\n",
    "    # specifying EASYMORE objects\n",
    "    # name of the case; the temporary, remapping and remapped file names include case name\n",
    "    esmr.case_name                = 'Merit_random_'+ str(element)            \n",
    "    # temporary path that the EASYMORE generated GIS files and remapped file will be saved\n",
    "    esmr.temp_dir                 = './temporary/'\n",
    "    # name of target shapefile that the source netcdf files should be remapped to\n",
    "    esmr.target_shp               = path_efficiency+str(element)+'_random.shp'\n",
    "    esmr.target_shp_ID            = 'COMID' # if not provided easymore give ID according to shape order in shapefile\n",
    "    # name of netCDF file(s); multiple files can be specified with *\n",
    "    esmr.source_nc                = './data/Source_nc_ERA5/ERA5_NA_*.nc'\n",
    "    # name of variables from source netCDF file(s) to be remapped\n",
    "    esmr.var_names                = ['airtemp','pptrate']\n",
    "    # rename the variables from source netCDF file(s) in the remapped files;\n",
    "    # it will be the same as source if not provided\n",
    "    esmr.var_names_remapped       = ['temperature','precipitation']\n",
    "    # name of variable longitude in source netCDF files\n",
    "    esmr.var_lon                  = 'longitude'\n",
    "    # name of variable latitude in source netCDF files\n",
    "    esmr.var_lat                  = 'latitude'\n",
    "    # name of variable time in source netCDF file; should be always time\n",
    "    esmr.var_time                 = 'time'\n",
    "    # location where the remapped netCDF file will be saved\n",
    "    esmr.output_dir               = './output/'\n",
    "\n",
    "    # execute EASYMORE\n",
    "    esmr.nc_remapper()\n"
   ]
  },
  {
   "cell_type": "code",
   "execution_count": 2,
   "metadata": {},
   "outputs": [
    {
     "name": "stdout",
     "output_type": "stream",
     "text": [
      "EASYMORE version 0.0.5 is initiated.\n",
      "no author name is provided. The author name is changed to (author name)!\n",
      "EASYMORE is given multiple variables for remapping but only on format and fill value. EASYMORE repeats the format and fill value for all the variables in output files\n",
      "EASYMORE will remap variable  airtemp  from source file to variable  temperature  in remapped netCDF file\n",
      "EASYMORE will remap variable  pptrate  from source file to variable  precipitation  in remapped netCDF file\n",
      "EASYMORE detects that the variables from the netCDF files are identicalin dimensions of the variables and latitude and longitude\n",
      "EASYMORE detects that all the variables have dimensions of:\n",
      "['time', 'latitude', 'longitude']\n",
      "EASYMORE detects that the longitude variables has dimensions of:\n",
      "['longitude']\n",
      "EASYMORE detects that the latitude variables has dimensions of:\n",
      "['latitude']\n"
     ]
    },
    {
     "name": "stderr",
     "output_type": "stream",
     "text": [
      "/Users/shg096/opt/anaconda3/envs/myenv38/lib/python3.8/site-packages/geopandas/_compat.py:106: UserWarning: The Shapely GEOS version (3.8.0-CAPI-1.13.1 ) is incompatible with the GEOS version PyGEOS was compiled with (3.9.1-CAPI-1.14.2). Conversions between both will be slow.\n",
      "  warnings.warn(\n"
     ]
    },
    {
     "name": "stdout",
     "output_type": "stream",
     "text": [
      "--CREATING-REMAPPING-FILE--\n",
      "Started at date and time 2023-04-05 21:03:21.463236\n",
      "EASYMORE detects that target shapefile is in WGS84 (epsg:4326)\n",
      "EASYMORE detects that the field for ID is provided in sink/target shapefile\n",
      "EASYMORE detects that either of the fields for latitude or longitude is not provided in sink/target shapefile\n",
      "calculating centroid of shapes in WGS84 projection;\n",
      "for better appximation use the easymore equal area centroid function to preprocess target shapefile\n",
      "EASYMORE detects that no field for latitude is provided in sink/target shapefile\n",
      "latitude values are added in the field lat_t\n",
      "EASYMORE detects that no field for longitude is provided in sink/target shapefile\n",
      "longitude values are added in the field lon_t\n",
      "it seems everything is OK with the sink/target shapefile; added to EASYMORE object target_shp_gpd\n",
      "EASYMORE saved target shapefile for EASYMORE claculation as:\n",
      "./temporary/Merit_radial_1_target_shapefile.shp\n",
      "EASYMORE detects case 1 - regular lat/lon\n",
      "max difference of lat values in source nc files are :  0.0\n",
      "max difference of lon values in source nc files are :  0.0\n",
      "./temporary/Merit_radial_1_source_shapefile.shp\n",
      "EASYMORE created the shapefile from the netCDF file and saved it here:\n",
      "EASMORE detects that target shapefile is inside the boundary of source netCDF file  and therefore correction for longitude values -180 to 180 or 0 to 360 is not performed even if  the correction_shp_lon flag is set to True [default is True]\n"
     ]
    },
    {
     "name": "stderr",
     "output_type": "stream",
     "text": [
      "/Users/shg096/opt/anaconda3/envs/myenv38/lib/python3.8/site-packages/geopandas/_vectorized.py:150: DeprecationWarning: An exception was ignored while fetching the attribute `__array_interface__` from an object of type 'Polygon'.  With the exception of `AttributeError` NumPy will always raise this exception in the future.  Raise this deprecation warning to see the original exception. (Warning added NumPy 1.21)\n",
      "  out[:] = [_pygeos_to_shapely(geom) for geom in data]\n",
      "/Users/shg096/opt/anaconda3/envs/myenv38/lib/python3.8/site-packages/pandas/core/dtypes/cast.py:1638: DeprecationWarning: An exception was ignored while fetching the attribute `__array_interface__` from an object of type 'Polygon'.  With the exception of `AttributeError` NumPy will always raise this exception in the future.  Raise this deprecation warning to see the original exception. (Warning added NumPy 1.21)\n",
      "  result[:] = values\n",
      "/Users/shg096/opt/anaconda3/envs/myenv38/lib/python3.8/site-packages/easymore/easymore.py:216: UserWarning: Column names longer than 10 characters will be truncated when saved to ESRI Shapefile.\n",
      "  shp_int.to_file(self.temp_dir+self.case_name+'_intersected_shapefile.shp') # save the intersected files\n",
      "/Users/shg096/opt/anaconda3/envs/myenv38/lib/python3.8/site-packages/geopandas/_vectorized.py:150: DeprecationWarning: An exception was ignored while fetching the attribute `__array_interface__` from an object of type 'Polygon'.  With the exception of `AttributeError` NumPy will always raise this exception in the future.  Raise this deprecation warning to see the original exception. (Warning added NumPy 1.21)\n",
      "  out[:] = [_pygeos_to_shapely(geom) for geom in data]\n"
     ]
    },
    {
     "name": "stdout",
     "output_type": "stream",
     "text": [
      "Ended at date and time 2023-04-05 21:03:22.046706\n",
      "It took 0.58347 seconds to finish creating of the remapping file\n",
      "---------------------------\n",
      "------REMAPPING------\n",
      "netcdf output file will be compressed at level 4\n",
      "Removing existing remapped .nc file.\n",
      "Remapping ../../ERA5_Efficiency_test/ERA5_NA_19790101.nc_1 to ./output/Merit_radial_1_remapped_1979-01-01-00-00-00.nc \n",
      "Started at date and time 2023-04-05 21:03:22.063571 \n",
      "Ended at date and time 2023-04-05 21:03:22.639406 \n",
      "It took 0.575835 seconds to finish the remapping of variable(s) \n",
      "---------------------\n",
      "Removing existing remapped .nc file.\n",
      "Remapping ../../ERA5_Efficiency_test/ERA5_NA_19790102.nc_1 to ./output/Merit_radial_1_remapped_1979-01-02-00-00-00.nc \n",
      "Started at date and time 2023-04-05 21:03:22.643411 \n",
      "Ended at date and time 2023-04-05 21:03:22.885625 \n",
      "It took 0.242214 seconds to finish the remapping of variable(s) \n",
      "---------------------\n",
      "Removing existing remapped .nc file.\n",
      "Remapping ../../ERA5_Efficiency_test/ERA5_NA_19790103.nc_1 to ./output/Merit_radial_1_remapped_1979-01-03-00-00-00.nc \n",
      "Started at date and time 2023-04-05 21:03:22.890326 \n",
      "Ended at date and time 2023-04-05 21:03:23.179145 \n",
      "It took 0.288819 seconds to finish the remapping of variable(s) \n",
      "---------------------\n",
      "---------------------\n",
      "EASYMORE version 0.0.5 is initiated.\n",
      "no author name is provided. The author name is changed to (author name)!\n",
      "EASYMORE is given multiple variables for remapping but only on format and fill value. EASYMORE repeats the format and fill value for all the variables in output files\n",
      "EASYMORE will remap variable  airtemp  from source file to variable  temperature  in remapped netCDF file\n",
      "EASYMORE will remap variable  pptrate  from source file to variable  precipitation  in remapped netCDF file\n",
      "EASYMORE detects that the variables from the netCDF files are identicalin dimensions of the variables and latitude and longitude\n",
      "EASYMORE detects that all the variables have dimensions of:\n",
      "['time', 'latitude', 'longitude']\n",
      "EASYMORE detects that the longitude variables has dimensions of:\n",
      "['longitude']\n",
      "EASYMORE detects that the latitude variables has dimensions of:\n",
      "['latitude']\n",
      "--CREATING-REMAPPING-FILE--\n",
      "Started at date and time 2023-04-05 21:03:23.234111\n",
      "EASYMORE detects that target shapefile is in WGS84 (epsg:4326)\n",
      "EASYMORE detects that the field for ID is provided in sink/target shapefile\n",
      "EASYMORE detects that either of the fields for latitude or longitude is not provided in sink/target shapefile\n",
      "calculating centroid of shapes in WGS84 projection;\n",
      "for better appximation use the easymore equal area centroid function to preprocess target shapefile\n",
      "EASYMORE detects that no field for latitude is provided in sink/target shapefile\n",
      "latitude values are added in the field lat_t\n",
      "EASYMORE detects that no field for longitude is provided in sink/target shapefile\n",
      "longitude values are added in the field lon_t\n",
      "it seems everything is OK with the sink/target shapefile; added to EASYMORE object target_shp_gpd\n",
      "EASYMORE saved target shapefile for EASYMORE claculation as:\n",
      "./temporary/Merit_radial_10_target_shapefile.shp\n",
      "EASYMORE detects case 1 - regular lat/lon\n",
      "max difference of lat values in source nc files are :  0.0\n",
      "max difference of lon values in source nc files are :  0.0\n",
      "./temporary/Merit_radial_10_source_shapefile.shp\n",
      "EASYMORE created the shapefile from the netCDF file and saved it here:\n",
      "EASMORE detects that target shapefile is inside the boundary of source netCDF file  and therefore correction for longitude values -180 to 180 or 0 to 360 is not performed even if  the correction_shp_lon flag is set to True [default is True]\n"
     ]
    },
    {
     "name": "stderr",
     "output_type": "stream",
     "text": [
      "/Users/shg096/opt/anaconda3/envs/myenv38/lib/python3.8/site-packages/geopandas/_vectorized.py:150: DeprecationWarning: An exception was ignored while fetching the attribute `__array_interface__` from an object of type 'Polygon'.  With the exception of `AttributeError` NumPy will always raise this exception in the future.  Raise this deprecation warning to see the original exception. (Warning added NumPy 1.21)\n",
      "  out[:] = [_pygeos_to_shapely(geom) for geom in data]\n",
      "/Users/shg096/opt/anaconda3/envs/myenv38/lib/python3.8/site-packages/geopandas/_vectorized.py:150: DeprecationWarning: An exception was ignored while fetching the attribute `__array_interface__` from an object of type 'MultiPolygon'.  With the exception of `AttributeError` NumPy will always raise this exception in the future.  Raise this deprecation warning to see the original exception. (Warning added NumPy 1.21)\n",
      "  out[:] = [_pygeos_to_shapely(geom) for geom in data]\n",
      "/Users/shg096/opt/anaconda3/envs/myenv38/lib/python3.8/site-packages/pandas/core/dtypes/cast.py:1638: DeprecationWarning: An exception was ignored while fetching the attribute `__array_interface__` from an object of type 'Polygon'.  With the exception of `AttributeError` NumPy will always raise this exception in the future.  Raise this deprecation warning to see the original exception. (Warning added NumPy 1.21)\n",
      "  result[:] = values\n",
      "/Users/shg096/opt/anaconda3/envs/myenv38/lib/python3.8/site-packages/easymore/easymore.py:216: UserWarning: Column names longer than 10 characters will be truncated when saved to ESRI Shapefile.\n",
      "  shp_int.to_file(self.temp_dir+self.case_name+'_intersected_shapefile.shp') # save the intersected files\n",
      "/Users/shg096/opt/anaconda3/envs/myenv38/lib/python3.8/site-packages/geopandas/_vectorized.py:150: DeprecationWarning: An exception was ignored while fetching the attribute `__array_interface__` from an object of type 'MultiPolygon'.  With the exception of `AttributeError` NumPy will always raise this exception in the future.  Raise this deprecation warning to see the original exception. (Warning added NumPy 1.21)\n",
      "  out[:] = [_pygeos_to_shapely(geom) for geom in data]\n",
      "/Users/shg096/opt/anaconda3/envs/myenv38/lib/python3.8/site-packages/geopandas/_vectorized.py:150: DeprecationWarning: An exception was ignored while fetching the attribute `__array_interface__` from an object of type 'Polygon'.  With the exception of `AttributeError` NumPy will always raise this exception in the future.  Raise this deprecation warning to see the original exception. (Warning added NumPy 1.21)\n",
      "  out[:] = [_pygeos_to_shapely(geom) for geom in data]\n"
     ]
    },
    {
     "name": "stdout",
     "output_type": "stream",
     "text": [
      "Ended at date and time 2023-04-05 21:03:23.592202\n",
      "It took 0.358091 seconds to finish creating of the remapping file\n",
      "---------------------------\n",
      "------REMAPPING------\n",
      "netcdf output file will be compressed at level 4\n",
      "Removing existing remapped .nc file.\n",
      "Remapping ../../ERA5_Efficiency_test/ERA5_NA_19790101.nc_10 to ./output/Merit_radial_10_remapped_1979-01-01-00-00-00.nc \n",
      "Started at date and time 2023-04-05 21:03:23.607865 \n",
      "Ended at date and time 2023-04-05 21:03:23.857492 \n",
      "It took 0.249627 seconds to finish the remapping of variable(s) \n",
      "---------------------\n",
      "Removing existing remapped .nc file.\n",
      "Remapping ../../ERA5_Efficiency_test/ERA5_NA_19790102.nc_10 to ./output/Merit_radial_10_remapped_1979-01-02-00-00-00.nc \n",
      "Started at date and time 2023-04-05 21:03:23.862273 \n",
      "Ended at date and time 2023-04-05 21:03:24.130273 \n",
      "It took 0.268 seconds to finish the remapping of variable(s) \n",
      "---------------------\n",
      "Removing existing remapped .nc file.\n",
      "Remapping ../../ERA5_Efficiency_test/ERA5_NA_19790103.nc_10 to ./output/Merit_radial_10_remapped_1979-01-03-00-00-00.nc \n",
      "Started at date and time 2023-04-05 21:03:24.135198 \n",
      "Ended at date and time 2023-04-05 21:03:24.397564 \n",
      "It took 0.262366 seconds to finish the remapping of variable(s) \n",
      "---------------------\n",
      "---------------------\n",
      "EASYMORE version 0.0.5 is initiated.\n",
      "no author name is provided. The author name is changed to (author name)!\n",
      "EASYMORE is given multiple variables for remapping but only on format and fill value. EASYMORE repeats the format and fill value for all the variables in output files\n",
      "EASYMORE will remap variable  airtemp  from source file to variable  temperature  in remapped netCDF file\n",
      "EASYMORE will remap variable  pptrate  from source file to variable  precipitation  in remapped netCDF file\n",
      "EASYMORE detects that the variables from the netCDF files are identicalin dimensions of the variables and latitude and longitude\n",
      "EASYMORE detects that all the variables have dimensions of:\n",
      "['time', 'latitude', 'longitude']\n",
      "EASYMORE detects that the longitude variables has dimensions of:\n",
      "['longitude']\n",
      "EASYMORE detects that the latitude variables has dimensions of:\n",
      "['latitude']\n",
      "--CREATING-REMAPPING-FILE--\n",
      "Started at date and time 2023-04-05 21:03:24.456344\n",
      "EASYMORE detects that target shapefile is in WGS84 (epsg:4326)\n",
      "EASYMORE detects that the field for ID is provided in sink/target shapefile\n",
      "EASYMORE detects that either of the fields for latitude or longitude is not provided in sink/target shapefile\n",
      "calculating centroid of shapes in WGS84 projection;\n",
      "for better appximation use the easymore equal area centroid function to preprocess target shapefile\n",
      "EASYMORE detects that no field for latitude is provided in sink/target shapefile\n",
      "latitude values are added in the field lat_t\n",
      "EASYMORE detects that no field for longitude is provided in sink/target shapefile\n",
      "longitude values are added in the field lon_t\n",
      "it seems everything is OK with the sink/target shapefile; added to EASYMORE object target_shp_gpd\n"
     ]
    },
    {
     "name": "stderr",
     "output_type": "stream",
     "text": [
      "/Users/shg096/opt/anaconda3/envs/myenv38/lib/python3.8/site-packages/geopandas/_vectorized.py:150: DeprecationWarning: An exception was ignored while fetching the attribute `__array_interface__` from an object of type 'Polygon'.  With the exception of `AttributeError` NumPy will always raise this exception in the future.  Raise this deprecation warning to see the original exception. (Warning added NumPy 1.21)\n",
      "  out[:] = [_pygeos_to_shapely(geom) for geom in data]\n",
      "/Users/shg096/opt/anaconda3/envs/myenv38/lib/python3.8/site-packages/geopandas/_vectorized.py:150: DeprecationWarning: An exception was ignored while fetching the attribute `__array_interface__` from an object of type 'MultiPolygon'.  With the exception of `AttributeError` NumPy will always raise this exception in the future.  Raise this deprecation warning to see the original exception. (Warning added NumPy 1.21)\n",
      "  out[:] = [_pygeos_to_shapely(geom) for geom in data]\n",
      "/Users/shg096/opt/anaconda3/envs/myenv38/lib/python3.8/site-packages/pandas/core/dtypes/cast.py:1638: DeprecationWarning: An exception was ignored while fetching the attribute `__array_interface__` from an object of type 'Polygon'.  With the exception of `AttributeError` NumPy will always raise this exception in the future.  Raise this deprecation warning to see the original exception. (Warning added NumPy 1.21)\n",
      "  result[:] = values\n"
     ]
    },
    {
     "name": "stdout",
     "output_type": "stream",
     "text": [
      "EASYMORE saved target shapefile for EASYMORE claculation as:\n",
      "./temporary/Merit_radial_100_target_shapefile.shp\n",
      "EASYMORE detects case 1 - regular lat/lon\n",
      "max difference of lat values in source nc files are :  0.0\n",
      "max difference of lon values in source nc files are :  0.0\n",
      "./temporary/Merit_radial_100_source_shapefile.shp\n",
      "EASYMORE created the shapefile from the netCDF file and saved it here:\n",
      "EASMORE detects that target shapefile is inside the boundary of source netCDF file  and therefore correction for longitude values -180 to 180 or 0 to 360 is not performed even if  the correction_shp_lon flag is set to True [default is True]\n"
     ]
    },
    {
     "name": "stderr",
     "output_type": "stream",
     "text": [
      "/Users/shg096/opt/anaconda3/envs/myenv38/lib/python3.8/site-packages/easymore/easymore.py:216: UserWarning: Column names longer than 10 characters will be truncated when saved to ESRI Shapefile.\n",
      "  shp_int.to_file(self.temp_dir+self.case_name+'_intersected_shapefile.shp') # save the intersected files\n",
      "/Users/shg096/opt/anaconda3/envs/myenv38/lib/python3.8/site-packages/geopandas/_vectorized.py:150: DeprecationWarning: An exception was ignored while fetching the attribute `__array_interface__` from an object of type 'Polygon'.  With the exception of `AttributeError` NumPy will always raise this exception in the future.  Raise this deprecation warning to see the original exception. (Warning added NumPy 1.21)\n",
      "  out[:] = [_pygeos_to_shapely(geom) for geom in data]\n",
      "/Users/shg096/opt/anaconda3/envs/myenv38/lib/python3.8/site-packages/geopandas/_vectorized.py:150: DeprecationWarning: An exception was ignored while fetching the attribute `__array_interface__` from an object of type 'MultiPolygon'.  With the exception of `AttributeError` NumPy will always raise this exception in the future.  Raise this deprecation warning to see the original exception. (Warning added NumPy 1.21)\n",
      "  out[:] = [_pygeos_to_shapely(geom) for geom in data]\n"
     ]
    },
    {
     "name": "stdout",
     "output_type": "stream",
     "text": [
      "Ended at date and time 2023-04-05 21:03:25.440371\n",
      "It took 0.984027 seconds to finish creating of the remapping file\n",
      "---------------------------\n",
      "------REMAPPING------\n",
      "netcdf output file will be compressed at level 4\n",
      "Removing existing remapped .nc file.\n",
      "Remapping ../../ERA5_Efficiency_test/ERA5_NA_19790101.nc_100 to ./output/Merit_radial_100_remapped_1979-01-01-00-00-00.nc \n",
      "Started at date and time 2023-04-05 21:03:25.453939 \n",
      "Ended at date and time 2023-04-05 21:03:25.688277 \n",
      "It took 0.234338 seconds to finish the remapping of variable(s) \n",
      "---------------------\n",
      "Removing existing remapped .nc file.\n",
      "Remapping ../../ERA5_Efficiency_test/ERA5_NA_19790102.nc_100 to ./output/Merit_radial_100_remapped_1979-01-02-00-00-00.nc \n",
      "Started at date and time 2023-04-05 21:03:25.692187 \n",
      "Ended at date and time 2023-04-05 21:03:25.936826 \n",
      "It took 0.244639 seconds to finish the remapping of variable(s) \n",
      "---------------------\n",
      "Removing existing remapped .nc file.\n",
      "Remapping ../../ERA5_Efficiency_test/ERA5_NA_19790103.nc_100 to ./output/Merit_radial_100_remapped_1979-01-03-00-00-00.nc \n",
      "Started at date and time 2023-04-05 21:03:25.941469 \n",
      "Ended at date and time 2023-04-05 21:03:26.163141 \n",
      "It took 0.221672 seconds to finish the remapping of variable(s) \n",
      "---------------------\n",
      "---------------------\n",
      "EASYMORE version 0.0.5 is initiated.\n",
      "no author name is provided. The author name is changed to (author name)!\n",
      "EASYMORE is given multiple variables for remapping but only on format and fill value. EASYMORE repeats the format and fill value for all the variables in output files\n",
      "EASYMORE will remap variable  airtemp  from source file to variable  temperature  in remapped netCDF file\n",
      "EASYMORE will remap variable  pptrate  from source file to variable  precipitation  in remapped netCDF file\n",
      "EASYMORE detects that the variables from the netCDF files are identicalin dimensions of the variables and latitude and longitude\n",
      "EASYMORE detects that all the variables have dimensions of:\n",
      "['time', 'latitude', 'longitude']\n",
      "EASYMORE detects that the longitude variables has dimensions of:\n",
      "['longitude']\n",
      "EASYMORE detects that the latitude variables has dimensions of:\n",
      "['latitude']\n",
      "--CREATING-REMAPPING-FILE--\n",
      "Started at date and time 2023-04-05 21:03:26.210163\n",
      "EASYMORE detects that target shapefile is in WGS84 (epsg:4326)\n",
      "EASYMORE detects that the field for ID is provided in sink/target shapefile\n",
      "EASYMORE detects that either of the fields for latitude or longitude is not provided in sink/target shapefile\n",
      "calculating centroid of shapes in WGS84 projection;\n",
      "for better appximation use the easymore equal area centroid function to preprocess target shapefile\n",
      "EASYMORE detects that no field for latitude is provided in sink/target shapefile\n",
      "latitude values are added in the field lat_t\n",
      "EASYMORE detects that no field for longitude is provided in sink/target shapefile\n",
      "longitude values are added in the field lon_t\n"
     ]
    },
    {
     "name": "stderr",
     "output_type": "stream",
     "text": [
      "/Users/shg096/opt/anaconda3/envs/myenv38/lib/python3.8/site-packages/geopandas/_vectorized.py:150: DeprecationWarning: An exception was ignored while fetching the attribute `__array_interface__` from an object of type 'Polygon'.  With the exception of `AttributeError` NumPy will always raise this exception in the future.  Raise this deprecation warning to see the original exception. (Warning added NumPy 1.21)\n",
      "  out[:] = [_pygeos_to_shapely(geom) for geom in data]\n",
      "/Users/shg096/opt/anaconda3/envs/myenv38/lib/python3.8/site-packages/geopandas/_vectorized.py:150: DeprecationWarning: An exception was ignored while fetching the attribute `__array_interface__` from an object of type 'MultiPolygon'.  With the exception of `AttributeError` NumPy will always raise this exception in the future.  Raise this deprecation warning to see the original exception. (Warning added NumPy 1.21)\n",
      "  out[:] = [_pygeos_to_shapely(geom) for geom in data]\n"
     ]
    },
    {
     "name": "stdout",
     "output_type": "stream",
     "text": [
      "it seems everything is OK with the sink/target shapefile; added to EASYMORE object target_shp_gpd\n",
      "EASYMORE saved target shapefile for EASYMORE claculation as:\n",
      "./temporary/Merit_radial_1000_target_shapefile.shp\n",
      "EASYMORE detects case 1 - regular lat/lon\n",
      "max difference of lat values in source nc files are :  0.0\n",
      "max difference of lon values in source nc files are :  0.0\n",
      "./temporary/Merit_radial_1000_source_shapefile.shp\n",
      "EASYMORE created the shapefile from the netCDF file and saved it here:\n"
     ]
    },
    {
     "name": "stderr",
     "output_type": "stream",
     "text": [
      "/Users/shg096/opt/anaconda3/envs/myenv38/lib/python3.8/site-packages/pandas/core/dtypes/cast.py:1638: DeprecationWarning: An exception was ignored while fetching the attribute `__array_interface__` from an object of type 'Polygon'.  With the exception of `AttributeError` NumPy will always raise this exception in the future.  Raise this deprecation warning to see the original exception. (Warning added NumPy 1.21)\n",
      "  result[:] = values\n"
     ]
    },
    {
     "name": "stdout",
     "output_type": "stream",
     "text": [
      "EASMORE detects that target shapefile is inside the boundary of source netCDF file  and therefore correction for longitude values -180 to 180 or 0 to 360 is not performed even if  the correction_shp_lon flag is set to True [default is True]\n"
     ]
    },
    {
     "name": "stderr",
     "output_type": "stream",
     "text": [
      "/Users/shg096/opt/anaconda3/envs/myenv38/lib/python3.8/site-packages/easymore/easymore.py:216: UserWarning: Column names longer than 10 characters will be truncated when saved to ESRI Shapefile.\n",
      "  shp_int.to_file(self.temp_dir+self.case_name+'_intersected_shapefile.shp') # save the intersected files\n",
      "/Users/shg096/opt/anaconda3/envs/myenv38/lib/python3.8/site-packages/geopandas/_vectorized.py:150: DeprecationWarning: An exception was ignored while fetching the attribute `__array_interface__` from an object of type 'Polygon'.  With the exception of `AttributeError` NumPy will always raise this exception in the future.  Raise this deprecation warning to see the original exception. (Warning added NumPy 1.21)\n",
      "  out[:] = [_pygeos_to_shapely(geom) for geom in data]\n",
      "/Users/shg096/opt/anaconda3/envs/myenv38/lib/python3.8/site-packages/geopandas/_vectorized.py:150: DeprecationWarning: An exception was ignored while fetching the attribute `__array_interface__` from an object of type 'MultiPolygon'.  With the exception of `AttributeError` NumPy will always raise this exception in the future.  Raise this deprecation warning to see the original exception. (Warning added NumPy 1.21)\n",
      "  out[:] = [_pygeos_to_shapely(geom) for geom in data]\n"
     ]
    },
    {
     "name": "stdout",
     "output_type": "stream",
     "text": [
      "Ended at date and time 2023-04-05 21:03:34.759278\n",
      "It took 8.549115 seconds to finish creating of the remapping file\n",
      "---------------------------\n",
      "------REMAPPING------\n",
      "netcdf output file will be compressed at level 4\n",
      "Removing existing remapped .nc file.\n",
      "Remapping ../../ERA5_Efficiency_test/ERA5_NA_19790101.nc_1000 to ./output/Merit_radial_1000_remapped_1979-01-01-00-00-00.nc \n",
      "Started at date and time 2023-04-05 21:03:34.780154 \n",
      "Ended at date and time 2023-04-05 21:03:35.046462 \n",
      "It took 0.266308 seconds to finish the remapping of variable(s) \n",
      "---------------------\n",
      "Removing existing remapped .nc file.\n",
      "Remapping ../../ERA5_Efficiency_test/ERA5_NA_19790102.nc_1000 to ./output/Merit_radial_1000_remapped_1979-01-02-00-00-00.nc \n",
      "Started at date and time 2023-04-05 21:03:35.051196 \n",
      "Ended at date and time 2023-04-05 21:03:35.339730 \n",
      "It took 0.288534 seconds to finish the remapping of variable(s) \n",
      "---------------------\n",
      "Removing existing remapped .nc file.\n",
      "Remapping ../../ERA5_Efficiency_test/ERA5_NA_19790103.nc_1000 to ./output/Merit_radial_1000_remapped_1979-01-03-00-00-00.nc \n",
      "Started at date and time 2023-04-05 21:03:35.343660 \n",
      "Ended at date and time 2023-04-05 21:03:35.606875 \n",
      "It took 0.263215 seconds to finish the remapping of variable(s) \n",
      "---------------------\n",
      "---------------------\n",
      "EASYMORE version 0.0.5 is initiated.\n",
      "no author name is provided. The author name is changed to (author name)!\n",
      "EASYMORE is given multiple variables for remapping but only on format and fill value. EASYMORE repeats the format and fill value for all the variables in output files\n",
      "EASYMORE will remap variable  airtemp  from source file to variable  temperature  in remapped netCDF file\n",
      "EASYMORE will remap variable  pptrate  from source file to variable  precipitation  in remapped netCDF file\n",
      "EASYMORE detects that the variables from the netCDF files are identicalin dimensions of the variables and latitude and longitude\n",
      "EASYMORE detects that all the variables have dimensions of:\n",
      "['time', 'latitude', 'longitude']\n",
      "EASYMORE detects that the longitude variables has dimensions of:\n",
      "['longitude']\n",
      "EASYMORE detects that the latitude variables has dimensions of:\n",
      "['latitude']\n",
      "--CREATING-REMAPPING-FILE--\n",
      "Started at date and time 2023-04-05 21:03:35.668872\n",
      "EASYMORE detects that target shapefile is in WGS84 (epsg:4326)\n",
      "EASYMORE detects that the field for ID is provided in sink/target shapefile\n",
      "EASYMORE detects that either of the fields for latitude or longitude is not provided in sink/target shapefile\n",
      "calculating centroid of shapes in WGS84 projection;\n",
      "for better appximation use the easymore equal area centroid function to preprocess target shapefile\n",
      "EASYMORE detects that no field for latitude is provided in sink/target shapefile\n",
      "latitude values are added in the field lat_t\n",
      "EASYMORE detects that no field for longitude is provided in sink/target shapefile\n",
      "longitude values are added in the field lon_t\n"
     ]
    },
    {
     "name": "stderr",
     "output_type": "stream",
     "text": [
      "/Users/shg096/opt/anaconda3/envs/myenv38/lib/python3.8/site-packages/geopandas/_vectorized.py:150: DeprecationWarning: An exception was ignored while fetching the attribute `__array_interface__` from an object of type 'Polygon'.  With the exception of `AttributeError` NumPy will always raise this exception in the future.  Raise this deprecation warning to see the original exception. (Warning added NumPy 1.21)\n",
      "  out[:] = [_pygeos_to_shapely(geom) for geom in data]\n",
      "/Users/shg096/opt/anaconda3/envs/myenv38/lib/python3.8/site-packages/geopandas/_vectorized.py:150: DeprecationWarning: An exception was ignored while fetching the attribute `__array_interface__` from an object of type 'MultiPolygon'.  With the exception of `AttributeError` NumPy will always raise this exception in the future.  Raise this deprecation warning to see the original exception. (Warning added NumPy 1.21)\n",
      "  out[:] = [_pygeos_to_shapely(geom) for geom in data]\n"
     ]
    },
    {
     "name": "stdout",
     "output_type": "stream",
     "text": [
      "it seems everything is OK with the sink/target shapefile; added to EASYMORE object target_shp_gpd\n",
      "EASYMORE saved target shapefile for EASYMORE claculation as:\n",
      "./temporary/Merit_radial_10000_target_shapefile.shp\n",
      "EASYMORE detects case 1 - regular lat/lon\n",
      "max difference of lat values in source nc files are :  0.0\n",
      "max difference of lon values in source nc files are :  0.0\n"
     ]
    },
    {
     "name": "stderr",
     "output_type": "stream",
     "text": [
      "/Users/shg096/opt/anaconda3/envs/myenv38/lib/python3.8/site-packages/pandas/core/dtypes/cast.py:1638: DeprecationWarning: An exception was ignored while fetching the attribute `__array_interface__` from an object of type 'Polygon'.  With the exception of `AttributeError` NumPy will always raise this exception in the future.  Raise this deprecation warning to see the original exception. (Warning added NumPy 1.21)\n",
      "  result[:] = values\n"
     ]
    },
    {
     "name": "stdout",
     "output_type": "stream",
     "text": [
      "./temporary/Merit_radial_10000_source_shapefile.shp\n",
      "EASYMORE created the shapefile from the netCDF file and saved it here:\n",
      "EASMORE detects that target shapefile is inside the boundary of source netCDF file  and therefore correction for longitude values -180 to 180 or 0 to 360 is not performed even if  the correction_shp_lon flag is set to True [default is True]\n"
     ]
    },
    {
     "name": "stderr",
     "output_type": "stream",
     "text": [
      "/Users/shg096/opt/anaconda3/envs/myenv38/lib/python3.8/site-packages/easymore/easymore.py:216: UserWarning: Column names longer than 10 characters will be truncated when saved to ESRI Shapefile.\n",
      "  shp_int.to_file(self.temp_dir+self.case_name+'_intersected_shapefile.shp') # save the intersected files\n",
      "/Users/shg096/opt/anaconda3/envs/myenv38/lib/python3.8/site-packages/geopandas/_vectorized.py:150: DeprecationWarning: An exception was ignored while fetching the attribute `__array_interface__` from an object of type 'MultiPolygon'.  With the exception of `AttributeError` NumPy will always raise this exception in the future.  Raise this deprecation warning to see the original exception. (Warning added NumPy 1.21)\n",
      "  out[:] = [_pygeos_to_shapely(geom) for geom in data]\n",
      "/Users/shg096/opt/anaconda3/envs/myenv38/lib/python3.8/site-packages/geopandas/_vectorized.py:150: DeprecationWarning: An exception was ignored while fetching the attribute `__array_interface__` from an object of type 'Polygon'.  With the exception of `AttributeError` NumPy will always raise this exception in the future.  Raise this deprecation warning to see the original exception. (Warning added NumPy 1.21)\n",
      "  out[:] = [_pygeos_to_shapely(geom) for geom in data]\n"
     ]
    },
    {
     "name": "stdout",
     "output_type": "stream",
     "text": [
      "Ended at date and time 2023-04-05 21:04:57.985959\n",
      "It took 82.317087 seconds to finish creating of the remapping file\n",
      "---------------------------\n",
      "------REMAPPING------\n",
      "netcdf output file will be compressed at level 4\n",
      "Removing existing remapped .nc file.\n",
      "Remapping ../../ERA5_Efficiency_test/ERA5_NA_19790101.nc_10000 to ./output/Merit_radial_10000_remapped_1979-01-01-00-00-00.nc \n",
      "Started at date and time 2023-04-05 21:04:58.069170 \n",
      "Ended at date and time 2023-04-05 21:04:58.651540 \n",
      "It took 0.58237 seconds to finish the remapping of variable(s) \n",
      "---------------------\n",
      "Removing existing remapped .nc file.\n",
      "Remapping ../../ERA5_Efficiency_test/ERA5_NA_19790102.nc_10000 to ./output/Merit_radial_10000_remapped_1979-01-02-00-00-00.nc \n",
      "Started at date and time 2023-04-05 21:04:58.658338 \n",
      "Ended at date and time 2023-04-05 21:04:59.243337 \n",
      "It took 0.584999 seconds to finish the remapping of variable(s) \n",
      "---------------------\n",
      "Removing existing remapped .nc file.\n",
      "Remapping ../../ERA5_Efficiency_test/ERA5_NA_19790103.nc_10000 to ./output/Merit_radial_10000_remapped_1979-01-03-00-00-00.nc \n",
      "Started at date and time 2023-04-05 21:04:59.249991 \n",
      "Ended at date and time 2023-04-05 21:04:59.810388 \n",
      "It took 0.560397 seconds to finish the remapping of variable(s) \n",
      "---------------------\n",
      "---------------------\n",
      "EASYMORE version 0.0.5 is initiated.\n",
      "no author name is provided. The author name is changed to (author name)!\n",
      "EASYMORE is given multiple variables for remapping but only on format and fill value. EASYMORE repeats the format and fill value for all the variables in output files\n",
      "EASYMORE will remap variable  airtemp  from source file to variable  temperature  in remapped netCDF file\n",
      "EASYMORE will remap variable  pptrate  from source file to variable  precipitation  in remapped netCDF file\n",
      "EASYMORE detects that the variables from the netCDF files are identicalin dimensions of the variables and latitude and longitude\n",
      "EASYMORE detects that all the variables have dimensions of:\n",
      "['time', 'latitude', 'longitude']\n",
      "EASYMORE detects that the longitude variables has dimensions of:\n",
      "['longitude']\n",
      "EASYMORE detects that the latitude variables has dimensions of:\n",
      "['latitude']\n",
      "--CREATING-REMAPPING-FILE--\n",
      "Started at date and time 2023-04-05 21:04:59.947644\n",
      "EASYMORE detects that target shapefile is in WGS84 (epsg:4326)\n",
      "EASYMORE detects that the field for ID is provided in sink/target shapefile\n",
      "EASYMORE detects that either of the fields for latitude or longitude is not provided in sink/target shapefile\n",
      "calculating centroid of shapes in WGS84 projection;\n",
      "for better appximation use the easymore equal area centroid function to preprocess target shapefile\n",
      "EASYMORE detects that no field for latitude is provided in sink/target shapefile\n",
      "latitude values are added in the field lat_t\n",
      "EASYMORE detects that no field for longitude is provided in sink/target shapefile\n",
      "longitude values are added in the field lon_t\n"
     ]
    },
    {
     "name": "stderr",
     "output_type": "stream",
     "text": [
      "/Users/shg096/opt/anaconda3/envs/myenv38/lib/python3.8/site-packages/geopandas/_vectorized.py:150: DeprecationWarning: An exception was ignored while fetching the attribute `__array_interface__` from an object of type 'Polygon'.  With the exception of `AttributeError` NumPy will always raise this exception in the future.  Raise this deprecation warning to see the original exception. (Warning added NumPy 1.21)\n",
      "  out[:] = [_pygeos_to_shapely(geom) for geom in data]\n",
      "/Users/shg096/opt/anaconda3/envs/myenv38/lib/python3.8/site-packages/geopandas/_vectorized.py:150: DeprecationWarning: An exception was ignored while fetching the attribute `__array_interface__` from an object of type 'MultiPolygon'.  With the exception of `AttributeError` NumPy will always raise this exception in the future.  Raise this deprecation warning to see the original exception. (Warning added NumPy 1.21)\n",
      "  out[:] = [_pygeos_to_shapely(geom) for geom in data]\n"
     ]
    },
    {
     "name": "stdout",
     "output_type": "stream",
     "text": [
      "it seems everything is OK with the sink/target shapefile; added to EASYMORE object target_shp_gpd\n",
      "EASYMORE saved target shapefile for EASYMORE claculation as:\n",
      "./temporary/Merit_radial_100000_target_shapefile.shp\n",
      "EASYMORE detects case 1 - regular lat/lon\n",
      "max difference of lat values in source nc files are :  0.0\n",
      "max difference of lon values in source nc files are :  0.0\n"
     ]
    },
    {
     "name": "stderr",
     "output_type": "stream",
     "text": [
      "/Users/shg096/opt/anaconda3/envs/myenv38/lib/python3.8/site-packages/pandas/core/dtypes/cast.py:1638: DeprecationWarning: An exception was ignored while fetching the attribute `__array_interface__` from an object of type 'Polygon'.  With the exception of `AttributeError` NumPy will always raise this exception in the future.  Raise this deprecation warning to see the original exception. (Warning added NumPy 1.21)\n",
      "  result[:] = values\n"
     ]
    },
    {
     "name": "stdout",
     "output_type": "stream",
     "text": [
      "./temporary/Merit_radial_100000_source_shapefile.shp\n",
      "EASYMORE created the shapefile from the netCDF file and saved it here:\n",
      "EASMORE detects that target shapefile is inside the boundary of source netCDF file  and therefore correction for longitude values -180 to 180 or 0 to 360 is not performed even if  the correction_shp_lon flag is set to True [default is True]\n"
     ]
    },
    {
     "name": "stderr",
     "output_type": "stream",
     "text": [
      "/Users/shg096/opt/anaconda3/envs/myenv38/lib/python3.8/site-packages/easymore/easymore.py:216: UserWarning: Column names longer than 10 characters will be truncated when saved to ESRI Shapefile.\n",
      "  shp_int.to_file(self.temp_dir+self.case_name+'_intersected_shapefile.shp') # save the intersected files\n",
      "/Users/shg096/opt/anaconda3/envs/myenv38/lib/python3.8/site-packages/geopandas/_vectorized.py:150: DeprecationWarning: An exception was ignored while fetching the attribute `__array_interface__` from an object of type 'Polygon'.  With the exception of `AttributeError` NumPy will always raise this exception in the future.  Raise this deprecation warning to see the original exception. (Warning added NumPy 1.21)\n",
      "  out[:] = [_pygeos_to_shapely(geom) for geom in data]\n",
      "/Users/shg096/opt/anaconda3/envs/myenv38/lib/python3.8/site-packages/geopandas/_vectorized.py:150: DeprecationWarning: An exception was ignored while fetching the attribute `__array_interface__` from an object of type 'MultiPolygon'.  With the exception of `AttributeError` NumPy will always raise this exception in the future.  Raise this deprecation warning to see the original exception. (Warning added NumPy 1.21)\n",
      "  out[:] = [_pygeos_to_shapely(geom) for geom in data]\n"
     ]
    },
    {
     "name": "stdout",
     "output_type": "stream",
     "text": [
      "Ended at date and time 2023-04-05 21:19:24.492692\n",
      "It took 864.545048 seconds to finish creating of the remapping file\n",
      "---------------------------\n",
      "------REMAPPING------\n",
      "netcdf output file will be compressed at level 4\n",
      "Remapping ../../ERA5_Efficiency_test/ERA5_NA_19790101.nc_100000 to ./output/Merit_radial_100000_remapped_1979-01-01-00-00-00.nc \n",
      "Started at date and time 2023-04-05 21:19:25.314542 \n",
      "Ended at date and time 2023-04-05 21:19:29.006303 \n",
      "It took 3.691761 seconds to finish the remapping of variable(s) \n",
      "---------------------\n",
      "Remapping ../../ERA5_Efficiency_test/ERA5_NA_19790102.nc_100000 to ./output/Merit_radial_100000_remapped_1979-01-02-00-00-00.nc \n",
      "Started at date and time 2023-04-05 21:19:29.014205 \n",
      "Ended at date and time 2023-04-05 21:19:33.051686 \n",
      "It took 4.037481 seconds to finish the remapping of variable(s) \n",
      "---------------------\n",
      "Remapping ../../ERA5_Efficiency_test/ERA5_NA_19790103.nc_100000 to ./output/Merit_radial_100000_remapped_1979-01-03-00-00-00.nc \n",
      "Started at date and time 2023-04-05 21:19:33.058383 \n",
      "Ended at date and time 2023-04-05 21:19:37.021795 \n",
      "It took 3.963412 seconds to finish the remapping of variable(s) \n",
      "---------------------\n",
      "---------------------\n"
     ]
    }
   ],
   "source": [
    "# loading EASYMORE\n",
    "from easymore import Easymore\n",
    "\n",
    "for element in elements:\n",
    "    \n",
    "    # initializing EASYMORE object\n",
    "    esmr = Easymore()\n",
    "\n",
    "    # specifying EASYMORE objects\n",
    "    # name of the case; the temporary, remapping and remapped file names include case name\n",
    "    esmr.case_name                = 'Merit_radial_'+ str(element)            \n",
    "    # temporary path that the EASYMORE generated GIS files and remapped file will be saved\n",
    "    esmr.temp_dir                 = './temporary/'\n",
    "    # name of target shapefile that the source netcdf files should be remapped to\n",
    "    esmr.target_shp               = path_efficiency+str(element)+'_radial.shp'\n",
    "    esmr.target_shp_ID            = 'COMID' # if not provided easymore give ID according to shape order in shapefile\n",
    "    # name of netCDF file(s); multiple files can be specified with *\n",
    "    esmr.source_nc                = path_efficiency+'ERA5_NA_*.nc_'+str(element)\n",
    "    # name of variables from source netCDF file(s) to be remapped\n",
    "    esmr.var_names                = ['airtemp','pptrate']\n",
    "    # rename the variables from source netCDF file(s) in the remapped files;\n",
    "    # it will be the same as source if not provided\n",
    "    esmr.var_names_remapped       = ['temperature','precipitation']\n",
    "    # name of variable longitude in source netCDF files\n",
    "    esmr.var_lon                  = 'longitude'\n",
    "    # name of variable latitude in source netCDF files\n",
    "    esmr.var_lat                  = 'latitude'\n",
    "    # name of variable time in source netCDF file; should be always time\n",
    "    esmr.var_time                 = 'time'\n",
    "    # location where the remapped netCDF file will be saved\n",
    "    esmr.output_dir               = './output/'\n",
    "\n",
    "    # execute EASYMORE\n",
    "    esmr.nc_remapper()"
   ]
  }
 ],
 "metadata": {
  "kernelspec": {
   "display_name": "myenv38",
   "language": "python",
   "name": "myenv38"
  },
  "language_info": {
   "codemirror_mode": {
    "name": "ipython",
    "version": 3
   },
   "file_extension": ".py",
   "mimetype": "text/x-python",
   "name": "python",
   "nbconvert_exporter": "python",
   "pygments_lexer": "ipython3",
   "version": "3.8.10"
  }
 },
 "nbformat": 4,
 "nbformat_minor": 4
}
