{
 "cells": [
  {
   "cell_type": "markdown",
   "metadata": {},
   "source": [
    "# An example of using EASYMORE to extract data for point data, in this case capitals of the world\n",
    "## Source netCDF file are ERA5 limited to North American Domain and Caribbean domain\n",
    "## In this example, we initialize easymore using a configuration dictionary"
   ]
  },
  {
   "cell_type": "code",
   "execution_count": 1,
   "metadata": {},
   "outputs": [
    {
     "name": "stdout",
     "output_type": "stream",
     "text": [
      "EASYMORE version 1.1.1 is initiated.\n",
      "{'case_name': 'ERA5_capitals_north_america', 'temp_dir': './temporary/', 'target_shp': './data/target_shapefiles/Capitals_point.shp', 'source_nc': './data/Source_nc_ERA5/ERA5_NA_*.nc', 'var_names': ['airtemp'], 'var_lon': 'longitude', 'var_lat': 'latitude', 'var_time': 'time', 'output_dir': './output/'}\n"
     ]
    },
    {
     "ename": "TypeError",
     "evalue": "the JSON object must be str, bytes or bytearray, not dict",
     "output_type": "error",
     "traceback": [
      "\u001b[0;31m---------------------------------------------------------------------------\u001b[0m",
      "\u001b[0;31mTypeError\u001b[0m                                 Traceback (most recent call last)",
      "Cell \u001b[0;32mIn[1], line 23\u001b[0m\n\u001b[1;32m      8\u001b[0m json_str   \u001b[38;5;241m=\u001b[39m \u001b[38;5;124m'''\u001b[39m\n\u001b[1;32m      9\u001b[0m \u001b[38;5;124m{\u001b[39m\n\u001b[1;32m     10\u001b[0m \u001b[38;5;124m\"\u001b[39m\u001b[38;5;124mcase_name\u001b[39m\u001b[38;5;124m\"\u001b[39m\u001b[38;5;124m   : \u001b[39m\u001b[38;5;124m\"\u001b[39m\u001b[38;5;124mERA5_capitals_north_america\u001b[39m\u001b[38;5;124m\"\u001b[39m\u001b[38;5;124m,\u001b[39m\n\u001b[0;32m   (...)\u001b[0m\n\u001b[1;32m     19\u001b[0m \u001b[38;5;124m}\u001b[39m\n\u001b[1;32m     20\u001b[0m \u001b[38;5;124m'''\u001b[39m\n\u001b[1;32m     22\u001b[0m json_obj \u001b[38;5;241m=\u001b[39m json\u001b[38;5;241m.\u001b[39mloads(json_str)\n\u001b[0;32m---> 23\u001b[0m esmr \u001b[38;5;241m=\u001b[39m \u001b[43mesmr\u001b[49m\u001b[38;5;241;43m.\u001b[39;49m\u001b[43mfrom_json\u001b[49m\u001b[43m(\u001b[49m\u001b[43mjson_obj\u001b[49m\u001b[43m)\u001b[49m\n\u001b[1;32m     25\u001b[0m \u001b[38;5;66;03m# decoder.JSONDecoder\u001b[39;00m\n\u001b[1;32m     26\u001b[0m \n\u001b[1;32m     27\u001b[0m \u001b[38;5;66;03m# execute EASYMORE\u001b[39;00m\n\u001b[1;32m     28\u001b[0m esmr\u001b[38;5;241m.\u001b[39mnc_remapper()\n",
      "File \u001b[0;32m~/Desktop/EASYMORE/easymore-env/lib/python3.9/site-packages/easymore/easymore.py:269\u001b[0m, in \u001b[0;36measymore.from_json\u001b[0;34m(cls, json_str)\u001b[0m\n\u001b[1;32m    267\u001b[0m \u001b[38;5;66;03m# building customized Easymore's JSON string decoder object\u001b[39;00m\n\u001b[1;32m    268\u001b[0m decoder \u001b[38;5;241m=\u001b[39m json\u001b[38;5;241m.\u001b[39mJSONDecoder(object_hook\u001b[38;5;241m=\u001b[39measymore\u001b[38;5;241m.\u001b[39m_easymore_decoder)\n\u001b[0;32m--> 269\u001b[0m json_dict \u001b[38;5;241m=\u001b[39m \u001b[43mjson\u001b[49m\u001b[38;5;241;43m.\u001b[39;49m\u001b[43mloads\u001b[49m\u001b[43m(\u001b[49m\u001b[43mjson_str\u001b[49m\u001b[43m)\u001b[49m\n\u001b[1;32m    271\u001b[0m \u001b[38;5;28;01mreturn\u001b[39;00m \u001b[38;5;28mcls\u001b[39m\u001b[38;5;241m.\u001b[39mfrom_dict(json_dict)\n",
      "File \u001b[0;32m/Library/Frameworks/Python.framework/Versions/3.9/lib/python3.9/json/__init__.py:339\u001b[0m, in \u001b[0;36mloads\u001b[0;34m(s, cls, object_hook, parse_float, parse_int, parse_constant, object_pairs_hook, **kw)\u001b[0m\n\u001b[1;32m    337\u001b[0m \u001b[38;5;28;01melse\u001b[39;00m:\n\u001b[1;32m    338\u001b[0m     \u001b[38;5;28;01mif\u001b[39;00m \u001b[38;5;129;01mnot\u001b[39;00m \u001b[38;5;28misinstance\u001b[39m(s, (\u001b[38;5;28mbytes\u001b[39m, \u001b[38;5;28mbytearray\u001b[39m)):\n\u001b[0;32m--> 339\u001b[0m         \u001b[38;5;28;01mraise\u001b[39;00m \u001b[38;5;167;01mTypeError\u001b[39;00m(\u001b[38;5;124mf\u001b[39m\u001b[38;5;124m'\u001b[39m\u001b[38;5;124mthe JSON object must be str, bytes or bytearray, \u001b[39m\u001b[38;5;124m'\u001b[39m\n\u001b[1;32m    340\u001b[0m                         \u001b[38;5;124mf\u001b[39m\u001b[38;5;124m'\u001b[39m\u001b[38;5;124mnot \u001b[39m\u001b[38;5;132;01m{\u001b[39;00ms\u001b[38;5;241m.\u001b[39m\u001b[38;5;18m__class__\u001b[39m\u001b[38;5;241m.\u001b[39m\u001b[38;5;18m__name__\u001b[39m\u001b[38;5;132;01m}\u001b[39;00m\u001b[38;5;124m'\u001b[39m)\n\u001b[1;32m    341\u001b[0m     s \u001b[38;5;241m=\u001b[39m s\u001b[38;5;241m.\u001b[39mdecode(detect_encoding(s), \u001b[38;5;124m'\u001b[39m\u001b[38;5;124msurrogatepass\u001b[39m\u001b[38;5;124m'\u001b[39m)\n\u001b[1;32m    343\u001b[0m \u001b[38;5;28;01mif\u001b[39;00m (\u001b[38;5;28mcls\u001b[39m \u001b[38;5;129;01mis\u001b[39;00m \u001b[38;5;28;01mNone\u001b[39;00m \u001b[38;5;129;01mand\u001b[39;00m object_hook \u001b[38;5;129;01mis\u001b[39;00m \u001b[38;5;28;01mNone\u001b[39;00m \u001b[38;5;129;01mand\u001b[39;00m\n\u001b[1;32m    344\u001b[0m         parse_int \u001b[38;5;129;01mis\u001b[39;00m \u001b[38;5;28;01mNone\u001b[39;00m \u001b[38;5;129;01mand\u001b[39;00m parse_float \u001b[38;5;129;01mis\u001b[39;00m \u001b[38;5;28;01mNone\u001b[39;00m \u001b[38;5;129;01mand\u001b[39;00m\n\u001b[1;32m    345\u001b[0m         parse_constant \u001b[38;5;129;01mis\u001b[39;00m \u001b[38;5;28;01mNone\u001b[39;00m \u001b[38;5;129;01mand\u001b[39;00m object_pairs_hook \u001b[38;5;129;01mis\u001b[39;00m \u001b[38;5;28;01mNone\u001b[39;00m \u001b[38;5;129;01mand\u001b[39;00m \u001b[38;5;129;01mnot\u001b[39;00m kw):\n",
      "\u001b[0;31mTypeError\u001b[0m: the JSON object must be str, bytes or bytearray, not dict"
     ]
    }
   ],
   "source": [
    "# loading EASYMORE\n",
    "from easymore.easymore import easymore\n",
    "import json #import decoder\n",
    "\n",
    "# initializing EASYMORE object\n",
    "esmr = easymore()\n",
    "\n",
    "json_str   = '''\n",
    "{\n",
    "\"case_name\"   : \"ERA5_capitals_north_america\",\n",
    "\"temp_dir\"    : \"./temporary/\",\n",
    "\"target_shp\"  : \"./data/target_shapefiles/Capitals_point.shp\",\n",
    "\"source_nc\"   : \"./data/Source_nc_ERA5/ERA5_NA_*.nc\",\n",
    "\"var_names\"   : [\"airtemp\"],\n",
    "\"var_lon\"     : \"longitude\",\n",
    "\"var_lat\"     : \"latitude\",\n",
    "\"var_time\"    : \"time\",\n",
    "\"output_dir\"  : \"./output/\"\n",
    "}\n",
    "'''\n",
    "\n",
    "json_obj = json.loads(json_str) #???\n",
    "esmr = esmr.from_json(json_obj) #???\n",
    "\n",
    "# decoder.JSONDecoder\n",
    "\n",
    "# execute EASYMORE\n",
    "esmr.nc_remapper()"
   ]
  },
  {
   "cell_type": "code",
   "execution_count": 3,
   "metadata": {},
   "outputs": [],
   "source": []
  },
  {
   "cell_type": "markdown",
   "metadata": {},
   "source": [
    "--------------\n",
    "--------------\n",
    "# Visualization of the source and the results"
   ]
  },
  {
   "cell_type": "code",
   "execution_count": null,
   "metadata": {},
   "outputs": [],
   "source": [
    "# visualize the result\n",
    "import geopandas as gpd\n",
    "import xarray as xr\n",
    "import glob\n",
    "import matplotlib.pyplot as plt\n",
    "import matplotlib\n",
    "font = {'family' : 'Times New Roman',\n",
    "         'weight' : 'bold',\n",
    "         'size'   : 24}\n",
    "matplotlib.rc('font', **font)\n",
    "\n",
    "shp = gpd.read_file( esmr.temp_dir + esmr.case_name + '_intersected_shapefile.shp')\n",
    "#print(shp)\n",
    "\n",
    "# the intersected shapefile shows that the ID_t of Washington, D.C., Ottawa and Mexico City is 187, 102 and 192 meaning that\n",
    "# they corresponse to the ID of 187 and 192 in the original shapefile of the capitals of the world\n",
    "# many of the capitals are not in the intersection as the ERA5 data is limited to North America and Caribbean\n",
    "\n",
    "\n",
    "# merge the output file into one xarray dataset\n",
    "ds = xr.merge([xr.open_dataset(f) for f in sorted(glob.glob(esmr.output_dir+esmr.case_name +'*.nc'))])\n",
    "#print(ds)\n",
    "ds.airtemp [:,:] = ds.airtemp[:,:] - 273; # Kelvin to Celsius\n",
    "\n",
    "# extract the data and plotting\n",
    "fig, axes = plt.subplots(1,1,figsize=(15,7), facecolor='white')\n",
    "\n",
    "WashingtonDC = ds.sel(ID=187, method = 'nearest') # ID_t, the target ID for Washington DC is 187\n",
    "WashingtonDC.airtemp.plot(ax = axes, label='Washington DC')\n",
    "\n",
    "MexicoCity = ds.sel(ID=192, method = 'nearest') # ID_t, the target ID for Mexico City is 192\n",
    "MexicoCity.airtemp.plot(ax = axes, label='Mexico City')\n",
    "\n",
    "Ottawa = ds.sel(ID=102, method = 'nearest') # ID_t, the target ID for Ottawa DC is 102\n",
    "Ottawa.airtemp.plot(ax = axes, label='Ottawa')\n",
    "\n",
    "plt.grid()\n",
    "plt.ylabel ('Temprature [C]')\n",
    "plt.title ('Temprature, Washington DC/Mexico City/Ottawa \\n First three days of January 1979')\n",
    "plt.legend()\n",
    "plt.tight_layout()\n",
    "plt.savefig('./fig/ERA5_North_America_Capitals.png')\n"
   ]
  },
  {
   "cell_type": "code",
   "execution_count": null,
   "metadata": {},
   "outputs": [],
   "source": []
  }
 ],
 "metadata": {
  "kernelspec": {
   "display_name": "easymore-env",
   "language": "python",
   "name": "easymore-env"
  },
  "language_info": {
   "codemirror_mode": {
    "name": "ipython",
    "version": 3
   },
   "file_extension": ".py",
   "mimetype": "text/x-python",
   "name": "python",
   "nbconvert_exporter": "python",
   "pygments_lexer": "ipython3",
   "version": "3.9.2"
  }
 },
 "nbformat": 4,
 "nbformat_minor": 4
}
