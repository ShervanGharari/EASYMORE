{
 "cells": [
  {
   "cell_type": "code",
   "execution_count": null,
   "id": "d40dac94",
   "metadata": {},
   "outputs": [],
   "source": []
  },
  {
   "cell_type": "code",
   "execution_count": null,
   "id": "227e6cf7",
   "metadata": {},
   "outputs": [
    {
     "name": "stdout",
     "output_type": "stream",
     "text": [
      "EASYMORE version 1.1.0 is initiated.\n",
      "no author name is provided. The author name is changed to (author name)!\n",
      "EASYMORE is given multiple variables for remapping but only on format and fill value. EASYMORE repeats the format and fill value for all the variables in output files\n",
      "EASYMORE will remap variable  airtemp  from source file to variable  temperature  in remapped netCDF file\n",
      "EASYMORE will remap variable  pptrate  from source file to variable  precipitation  in remapped netCDF file\n",
      "EASYMORE detects that the variables from the netCDF files are identicalin dimensions of the variables and latitude and longitude\n",
      "EASYMORE detects that all the variables have dimensions of:\n",
      "['time', 'latitude', 'longitude']\n",
      "EASYMORE detects that the longitude variables has dimensions of:\n",
      "['longitude']\n",
      "EASYMORE detects that the latitude variables has dimensions of:\n",
      "['latitude']\n"
     ]
    },
    {
     "name": "stderr",
     "output_type": "stream",
     "text": [
      "/Users/shg096/opt/anaconda3/envs/myenv38/lib/python3.8/site-packages/geopandas/_compat.py:106: UserWarning: The Shapely GEOS version (3.8.0-CAPI-1.13.1 ) is incompatible with the GEOS version PyGEOS was compiled with (3.9.1-CAPI-1.14.2). Conversions between both will be slow.\n",
      "  warnings.warn(\n"
     ]
    },
    {
     "name": "stdout",
     "output_type": "stream",
     "text": [
      "--CREATING-REMAPPING-FILE--\n",
      "Started at date and time 2023-08-07 21:08:36.282078\n",
      "EASYMORE detects that target shapefile is in WGS84 (epsg:4326)\n",
      "EASYMORE detects that the field for ID is provided in sink/target shapefile\n",
      "EASYMORE detects that either of the fields for latitude or longitude is not provided in sink/target shapefile\n",
      "calculating centroid of shapes in WGS84 projection;\n",
      "for better appximation use the easymore equal area centroid function to preprocess target shapefile\n",
      "EASYMORE detects that no field for latitude is provided in sink/target shapefile\n",
      "latitude values are added in the field lat_t\n",
      "EASYMORE detects that no field for longitude is provided in sink/target shapefile\n",
      "longitude values are added in the field lon_t\n"
     ]
    },
    {
     "name": "stderr",
     "output_type": "stream",
     "text": [
      "/Users/shg096/opt/anaconda3/envs/myenv38/lib/python3.8/site-packages/geopandas/_vectorized.py:150: DeprecationWarning: An exception was ignored while fetching the attribute `__array_interface__` from an object of type 'MultiPolygon'.  With the exception of `AttributeError` NumPy will always raise this exception in the future.  Raise this deprecation warning to see the original exception. (Warning added NumPy 1.21)\n",
      "  out[:] = [_pygeos_to_shapely(geom) for geom in data]\n",
      "/Users/shg096/opt/anaconda3/envs/myenv38/lib/python3.8/site-packages/geopandas/_vectorized.py:150: DeprecationWarning: An exception was ignored while fetching the attribute `__array_interface__` from an object of type 'Polygon'.  With the exception of `AttributeError` NumPy will always raise this exception in the future.  Raise this deprecation warning to see the original exception. (Warning added NumPy 1.21)\n",
      "  out[:] = [_pygeos_to_shapely(geom) for geom in data]\n"
     ]
    },
    {
     "name": "stdout",
     "output_type": "stream",
     "text": [
      "it seems everything is OK with the sink/target shapefile; added to EASYMORE object target_shp_gpd\n",
      "EASYMORE saved target shapefile for EASYMORE claculation as:\n",
      "./temporary/ERA5_Merit_Basin_North_Asia_target_shapefile.shp\n",
      "EASYMORE detects case 1 - regular lat/lon\n",
      "max difference of lat values in source nc files are :  0.0\n",
      "max difference of lon values in source nc files are :  0.0\n"
     ]
    },
    {
     "name": "stderr",
     "output_type": "stream",
     "text": [
      "/Users/shg096/opt/anaconda3/envs/myenv38/lib/python3.8/site-packages/pandas/core/dtypes/cast.py:1638: DeprecationWarning: An exception was ignored while fetching the attribute `__array_interface__` from an object of type 'Polygon'.  With the exception of `AttributeError` NumPy will always raise this exception in the future.  Raise this deprecation warning to see the original exception. (Warning added NumPy 1.21)\n",
      "  result[:] = values\n"
     ]
    },
    {
     "name": "stdout",
     "output_type": "stream",
     "text": [
      "./temporary/ERA5_Merit_Basin_North_Asia_source_shapefile.shp\n",
      "EASYMORE created the shapefile from the netCDF file and saved it here:\n",
      "EASMORE detects that target shapefile is outside the boundary of source netCDF file  and therefore correction for longitude values -180 to 180 or 0 to 360 if correction_shp_lon  flag is set to True [default is True]\n",
      "correcting target shapefile\n",
      "174.80124999999998 51.89208333333333 185.11124999999998 71.56541666666666\n",
      "EASYMORE detects that the shapefile is in region 180 to 360 and correct by moving -360\n"
     ]
    },
    {
     "name": "stderr",
     "output_type": "stream",
     "text": [
      "/Users/shg096/opt/anaconda3/envs/myenv38/lib/python3.8/site-packages/geopandas/_vectorized.py:150: DeprecationWarning: An exception was ignored while fetching the attribute `__array_interface__` from an object of type 'Polygon'.  With the exception of `AttributeError` NumPy will always raise this exception in the future.  Raise this deprecation warning to see the original exception. (Warning added NumPy 1.21)\n",
      "  out[:] = [_pygeos_to_shapely(geom) for geom in data]\n",
      "/Users/shg096/opt/anaconda3/envs/myenv38/lib/python3.8/site-packages/geopandas/_vectorized.py:150: DeprecationWarning: An exception was ignored while fetching the attribute `__array_interface__` from an object of type 'MultiPolygon'.  With the exception of `AttributeError` NumPy will always raise this exception in the future.  Raise this deprecation warning to see the original exception. (Warning added NumPy 1.21)\n",
      "  out[:] = [_pygeos_to_shapely(geom) for geom in data]\n"
     ]
    },
    {
     "name": "stdout",
     "output_type": "stream",
     "text": [
      "EASYMORE detects that the shapefile is also in region -180 to 180\n"
     ]
    },
    {
     "name": "stderr",
     "output_type": "stream",
     "text": [
      "/Users/shg096/opt/anaconda3/envs/myenv38/lib/python3.8/site-packages/pandas/core/dtypes/cast.py:1638: DeprecationWarning: An exception was ignored while fetching the attribute `__array_interface__` from an object of type 'Polygon'.  With the exception of `AttributeError` NumPy will always raise this exception in the future.  Raise this deprecation warning to see the original exception. (Warning added NumPy 1.21)\n",
      "  result[:] = values\n"
     ]
    },
    {
     "name": "stdout",
     "output_type": "stream",
     "text": [
      "correcting source shapefile\n",
      "-180.125 45.375 179.875 81.375\n",
      "EASYMORE detects that the shapefile is in region -360 to -180 and correct by moving +360\n"
     ]
    },
    {
     "name": "stderr",
     "output_type": "stream",
     "text": [
      "/Users/shg096/opt/anaconda3/envs/myenv38/lib/python3.8/site-packages/pandas/core/dtypes/cast.py:1638: DeprecationWarning: An exception was ignored while fetching the attribute `__array_interface__` from an object of type 'Polygon'.  With the exception of `AttributeError` NumPy will always raise this exception in the future.  Raise this deprecation warning to see the original exception. (Warning added NumPy 1.21)\n",
      "  result[:] = values\n",
      "/Users/shg096/opt/anaconda3/envs/myenv38/lib/python3.8/site-packages/geopandas/_vectorized.py:150: DeprecationWarning: An exception was ignored while fetching the attribute `__array_interface__` from an object of type 'Polygon'.  With the exception of `AttributeError` NumPy will always raise this exception in the future.  Raise this deprecation warning to see the original exception. (Warning added NumPy 1.21)\n",
      "  out[:] = [_pygeos_to_shapely(geom) for geom in data]\n",
      "/Users/shg096/opt/anaconda3/envs/myenv38/lib/python3.8/site-packages/pandas/core/dtypes/cast.py:1638: DeprecationWarning: An exception was ignored while fetching the attribute `__array_interface__` from an object of type 'Polygon'.  With the exception of `AttributeError` NumPy will always raise this exception in the future.  Raise this deprecation warning to see the original exception. (Warning added NumPy 1.21)\n",
      "  result[:] = values\n"
     ]
    },
    {
     "name": "stdout",
     "output_type": "stream",
     "text": [
      "EASYMORE detects that the shapefile is also in region -180 to 180\n"
     ]
    },
    {
     "name": "stderr",
     "output_type": "stream",
     "text": [
      "/Users/shg096/opt/anaconda3/envs/myenv38/lib/python3.8/site-packages/geopandas/_vectorized.py:150: DeprecationWarning: An exception was ignored while fetching the attribute `__array_interface__` from an object of type 'MultiPolygon'.  With the exception of `AttributeError` NumPy will always raise this exception in the future.  Raise this deprecation warning to see the original exception. (Warning added NumPy 1.21)\n",
      "  out[:] = [_pygeos_to_shapely(geom) for geom in data]\n",
      "/Users/shg096/opt/anaconda3/envs/myenv38/lib/python3.8/site-packages/geopandas/_vectorized.py:150: DeprecationWarning: An exception was ignored while fetching the attribute `__array_interface__` from an object of type 'Polygon'.  With the exception of `AttributeError` NumPy will always raise this exception in the future.  Raise this deprecation warning to see the original exception. (Warning added NumPy 1.21)\n",
      "  out[:] = [_pygeos_to_shapely(geom) for geom in data]\n"
     ]
    }
   ],
   "source": [
    "# loading EASYMORE\n",
    "from easymore.easymore import easymore\n",
    "\n",
    "# initializing EASYMORE object\n",
    "esmr = easymore()\n",
    "\n",
    "# specifying EASYMORE objects\n",
    "# name of the case; the temporary, remapping and remapped file names include case name\n",
    "esmr.case_name                = 'ERA5_Merit_Basin_North_Asia'              \n",
    "# temporary path that the EASYMORE generated GIS files and remapped file will be saved\n",
    "esmr.temp_dir                 = './temporary/'\n",
    "# name of target shapefile that the source netcdf files should be remapped to\n",
    "esmr.target_shp               = './data/target_shapefiles/MERIT_NA.shp'\n",
    "esmr.target_shp_ID            = 'COMID' # if not provided easymore give ID according to shape order in shapefile\n",
    "# name of netCDF file(s); multiple files can be specified with *\n",
    "esmr.source_nc                = './data/Source_nc_ERA5/ERA5_global_19790101_0001.nc'\n",
    "# name of variables from source netCDF file(s) to be remapped\n",
    "esmr.var_names                = ['airtemp','pptrate']\n",
    "# rename the variables from source netCDF file(s) in the remapped files;\n",
    "# it will be the same as source if not provided\n",
    "esmr.var_names_remapped       = ['temperature','precipitation']\n",
    "# name of variable longitude in source netCDF files\n",
    "esmr.var_lon                  = 'longitude'\n",
    "# name of variable latitude in source netCDF files\n",
    "esmr.var_lat                  = 'latitude'\n",
    "# name of variable time in source netCDF file; should be always time\n",
    "esmr.var_time                 = 'time'\n",
    "# location where the remapped netCDF file will be saved\n",
    "esmr.output_dir               = './output/'\n",
    "# format of the variables to be saved in remapped files,\n",
    "# if one format provided it will be expanded to other variables\n",
    "esmr.format_list              = ['f4']\n",
    "# fill values of the variables to be saved in remapped files,\n",
    "# if one value provided it will be expanded to other variables\n",
    "esmr.fill_value_list          = ['-9999.00']\n",
    "# if required that the remapped values to be saved as csv as well\n",
    "esmr.complevel                = 9\n",
    "\n",
    "# execute EASYMORE\n",
    "esmr.nc_remapper()"
   ]
  },
  {
   "cell_type": "code",
   "execution_count": null,
   "id": "25af964e",
   "metadata": {},
   "outputs": [],
   "source": [
    "# loading EASYMORE\n",
    "from easymore.easymore import easymore\n",
    "\n",
    "# initializing EASYMORE object\n",
    "esmr = easymore()\n",
    "\n",
    "# define the source, and target files and parameters\n",
    "case_name                  = 'ERA5_Merit_Basin_North_Asia'  \n",
    "source_nc_name             = './data/Source_nc_ERA5/ERA5_global_19790101_0001.nc'\n",
    "source_nc_var_lon          = 'longitude'\n",
    "source_nc_var_lat          = 'latitude'\n",
    "source_nc_var_time         = 'time'\n",
    "source_nc_var_name         = 'airtemp'\n",
    "remapped_nc_name           = './output/ERA5_Merit_Basin_North_Asia_remapped_1979-01-01-01-00-00.nc'\n",
    "remapped_nc_var_name       = 'temperature'\n",
    "remapped_nc_var_ID         = 'ID'\n",
    "remapped_nc_var_time       = 'time'\n",
    "time_step_of_viz           = '1979-01-01 3:00:00'\n",
    "folder_save_fig            = './fig/'\n",
    "target_shp_name            = './data/target_shapefiles/MERIT_NA.shp'\n",
    "target_shp_field_ID        = 'COMID'\n",
    "cmap                       = 'viridis'\n",
    "linewidth_remapped         = 1\n",
    "margin                     = 0.1\n",
    "font_size                  = 40\n",
    "fig_size                   = (30,20)\n",
    "\n",
    "# the source nc file\n",
    "esmr.nc_vis(source_nc_name             = source_nc_name,\n",
    "            source_nc_var_lon          = source_nc_var_lon,\n",
    "            source_nc_var_lat          = source_nc_var_lat,\n",
    "            source_nc_var_time         = source_nc_var_time,\n",
    "            source_nc_var_name         = source_nc_var_name,\n",
    "            time_step_of_viz           = time_step_of_viz,\n",
    "            location_save_fig          = folder_save_fig,\n",
    "            fig_name                   = case_name+'_1.png',\n",
    "            cmap                       = cmap,\n",
    "            font_size                  = font_size,\n",
    "            fig_size                   = fig_size)\n",
    "\n",
    "\n",
    "# the source nc file zoom to target shapefile without showing the remapped variables\n",
    "esmr.nc_vis(source_nc_name             = source_nc_name,\n",
    "            source_nc_var_lon          = source_nc_var_lon,\n",
    "            source_nc_var_lat          = source_nc_var_lat,\n",
    "            source_nc_var_time         = source_nc_var_time,\n",
    "            source_nc_var_name         = source_nc_var_name,\n",
    "            remapped_nc_name           = remapped_nc_name,\n",
    "            remapped_nc_var_name       = remapped_nc_var_name,\n",
    "            remapped_nc_var_ID         = remapped_nc_var_ID,\n",
    "            remapped_nc_var_time       = remapped_nc_var_time,\n",
    "            time_step_of_viz           = time_step_of_viz,\n",
    "            location_save_fig          = folder_save_fig,\n",
    "            target_shp_name            = target_shp_name,\n",
    "            linewidth_remapped         = linewidth_remapped,\n",
    "            show_target_shp_flag       = True,\n",
    "            fig_name                   = case_name+'_2.png',\n",
    "            cmap                       = cmap,\n",
    "            margin                     = margin,\n",
    "            font_size                  = font_size,\n",
    "            fig_size                   = fig_size)\n",
    "\n",
    "\n",
    "# the source nc file zoom to target shapefile with showing the remapped variables\n",
    "esmr.nc_vis(source_nc_name             = source_nc_name,\n",
    "            source_nc_var_lon          = source_nc_var_lon,\n",
    "            source_nc_var_lat          = source_nc_var_lat,\n",
    "            source_nc_var_time         = source_nc_var_time,\n",
    "            source_nc_var_name         = source_nc_var_name,\n",
    "            remapped_nc_name           = remapped_nc_name,\n",
    "            remapped_nc_var_name       = remapped_nc_var_name,\n",
    "            remapped_nc_var_ID         = remapped_nc_var_ID,\n",
    "            remapped_nc_var_time       = remapped_nc_var_time,\n",
    "            time_step_of_viz           = time_step_of_viz,\n",
    "            location_save_fig          = folder_save_fig,\n",
    "            target_shp_name            = target_shp_name,\n",
    "            target_shp_field_ID        = target_shp_field_ID,\n",
    "            linewidth_remapped         = linewidth_remapped,\n",
    "            show_target_shp_flag       = True,\n",
    "            show_remapped_values_flag  = True,\n",
    "            fig_name                   = case_name+'_3.png',\n",
    "            cmap                       = cmap,\n",
    "            margin                     = margin,\n",
    "            font_size                  = font_size,\n",
    "            fig_size                   = fig_size)\n",
    "\n",
    "\n",
    "# merge the two figures into one\n",
    "from PIL import Image, ImageFont, ImageDraw\n",
    "image_list = [folder_save_fig+case_name+'_2.png' , folder_save_fig+case_name+'_3.png']\n",
    "image_list_cropped = [folder_save_fig+case_name+'_cropped_2.png' , folder_save_fig+case_name+'_cropped_3.png']\n",
    "\n",
    "\n",
    "# crop if needed, can be commneted\n",
    "im = Image.open(image_list[0])\n",
    "width, height = im.size      \n",
    "crop_area = (0, 0, width*0.87, height) # (left, upper, right, lower)\n",
    "cropped_image = im.crop(crop_area)\n",
    "cropped_image.save(image_list_cropped[0])\n",
    "#\n",
    "im = Image.open(image_list[1])\n",
    "width, height = im.size \n",
    "crop_area = (width*0.0622, 0, width, height) # (left, upper, right, lower)\n",
    "cropped_image = im.crop(crop_area)\n",
    "cropped_image.save(image_list_cropped[1])\n",
    "\n",
    "# merging\n",
    "images = [Image.open(x) for x in image_list_cropped]\n",
    "widths, heights = zip(*(i.size for i in images))\n",
    "total_width = sum(widths)\n",
    "max_height = max(heights)\n",
    "new_im = Image.new('RGB', (total_width, max_height))\n",
    "x_offset = 0\n",
    "for im in images:\n",
    "    new_im.paste(im, (x_offset,0))\n",
    "    x_offset += im.size[0]\n",
    "new_im.save(folder_save_fig+case_name+'.png')\n",
    "new_im.save(folder_save_fig+'ERA5_north_asia.png')\n",
    "new_im.show()\n",
    "    "
   ]
  },
  {
   "cell_type": "code",
   "execution_count": null,
   "id": "a94775fe",
   "metadata": {},
   "outputs": [],
   "source": []
  }
 ],
 "metadata": {
  "kernelspec": {
   "display_name": "myenv38",
   "language": "python",
   "name": "myenv38"
  },
  "language_info": {
   "codemirror_mode": {
    "name": "ipython",
    "version": 3
   },
   "file_extension": ".py",
   "mimetype": "text/x-python",
   "name": "python",
   "nbconvert_exporter": "python",
   "pygments_lexer": "ipython3",
   "version": "3.8.10"
  }
 },
 "nbformat": 4,
 "nbformat_minor": 5
}
